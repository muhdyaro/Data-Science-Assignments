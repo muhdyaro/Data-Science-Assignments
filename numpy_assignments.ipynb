{
 "cells": [
  {
   "cell_type": "markdown",
   "metadata": {},
   "source": [
    "# 1."
   ]
  },
  {
   "cell_type": "code",
   "execution_count": 6,
   "metadata": {},
   "outputs": [],
   "source": [
    "import numpy as np"
   ]
  },
  {
   "cell_type": "markdown",
   "metadata": {},
   "source": [
    "# 2."
   ]
  },
  {
   "cell_type": "code",
   "execution_count": 4,
   "metadata": {},
   "outputs": [
    {
     "name": "stdout",
     "output_type": "stream",
     "text": [
      "NumPy Version: 1.26.2\n",
      "\n",
      "NumPy Configuration:\n",
      "{\n",
      "  \"Compilers\": {\n",
      "    \"c\": {\n",
      "      \"name\": \"msvc\",\n",
      "      \"linker\": \"link\",\n",
      "      \"version\": \"19.29.30152\",\n",
      "      \"commands\": \"cl\"\n",
      "    },\n",
      "    \"cython\": {\n",
      "      \"name\": \"cython\",\n",
      "      \"linker\": \"cython\",\n",
      "      \"version\": \"3.0.5\",\n",
      "      \"commands\": \"cython\"\n",
      "    },\n",
      "    \"c++\": {\n",
      "      \"name\": \"msvc\",\n",
      "      \"linker\": \"link\",\n",
      "      \"version\": \"19.29.30152\",\n",
      "      \"commands\": \"cl\"\n",
      "    }\n",
      "  },\n",
      "  \"Machine Information\": {\n",
      "    \"host\": {\n",
      "      \"cpu\": \"x86_64\",\n",
      "      \"family\": \"x86_64\",\n",
      "      \"endian\": \"little\",\n",
      "      \"system\": \"windows\"\n",
      "    },\n",
      "    \"build\": {\n",
      "      \"cpu\": \"x86_64\",\n",
      "      \"family\": \"x86_64\",\n",
      "      \"endian\": \"little\",\n",
      "      \"system\": \"windows\"\n",
      "    }\n",
      "  },\n",
      "  \"Build Dependencies\": {\n",
      "    \"blas\": {\n",
      "      \"name\": \"openblas64\",\n",
      "      \"found\": true,\n",
      "      \"version\": \"0.3.23.dev\",\n",
      "      \"detection method\": \"pkgconfig\",\n",
      "      \"include directory\": \"/c/opt/64/include\",\n",
      "      \"lib directory\": \"/c/opt/64/lib\",\n",
      "      \"openblas configuration\": \"USE_64BITINT=1 DYNAMIC_ARCH=1 DYNAMIC_OLDER= NO_CBLAS= NO_LAPACK= NO_LAPACKE= NO_AFFINITY=1 USE_OPENMP= SKYLAKEX MAX_THREADS=2\",\n",
      "      \"pc file directory\": \"C:/opt/64/lib/pkgconfig\"\n",
      "    },\n",
      "    \"lapack\": {\n",
      "      \"name\": \"dep2952636600240\",\n",
      "      \"found\": true,\n",
      "      \"version\": \"1.26.2\",\n",
      "      \"detection method\": \"internal\",\n",
      "      \"include directory\": \"unknown\",\n",
      "      \"lib directory\": \"unknown\",\n",
      "      \"openblas configuration\": \"unknown\",\n",
      "      \"pc file directory\": \"unknown\"\n",
      "    }\n",
      "  },\n",
      "  \"Python Information\": {\n",
      "    \"path\": \"C:\\\\Users\\\\runneradmin\\\\AppData\\\\Local\\\\Temp\\\\cibw-run-s5ovp148\\\\cp312-win_amd64\\\\build\\\\venv\\\\Scripts\\\\python.exe\",\n",
      "    \"version\": \"3.12\"\n",
      "  },\n",
      "  \"SIMD Extensions\": {\n",
      "    \"baseline\": [\n",
      "      \"SSE\",\n",
      "      \"SSE2\",\n",
      "      \"SSE3\"\n",
      "    ],\n",
      "    \"found\": [\n",
      "      \"SSSE3\",\n",
      "      \"SSE41\",\n",
      "      \"POPCNT\",\n",
      "      \"SSE42\",\n",
      "      \"AVX\",\n",
      "      \"F16C\",\n",
      "      \"FMA3\",\n",
      "      \"AVX2\",\n",
      "      \"AVX512F\",\n",
      "      \"AVX512CD\",\n",
      "      \"AVX512_SKX\",\n",
      "      \"AVX512_CLX\",\n",
      "      \"AVX512_CNL\",\n",
      "      \"AVX512_ICL\"\n",
      "    ]\n",
      "  }\n",
      "}\n",
      "None\n"
     ]
    },
    {
     "name": "stderr",
     "output_type": "stream",
     "text": [
      "c:\\Python312\\Lib\\site-packages\\numpy\\__config__.py:149: UserWarning: Install `pyyaml` for better output\n",
      "  warnings.warn(\"Install `pyyaml` for better output\", stacklevel=1)\n"
     ]
    }
   ],
   "source": [
    "\n",
    "# Print NumPy version\n",
    "print(\"NumPy Version:\", np.__version__)\n",
    "\n",
    "# Print NumPy configuration\n",
    "print(\"\\nNumPy Configuration:\")\n",
    "print(np.show_config())\n"
   ]
  },
  {
   "cell_type": "markdown",
   "metadata": {},
   "source": [
    "# 3."
   ]
  },
  {
   "cell_type": "code",
   "execution_count": 5,
   "metadata": {},
   "outputs": [
    {
     "name": "stdout",
     "output_type": "stream",
     "text": [
      "Null Vector:\n",
      "[0. 0. 0. 0. 0. 0. 0. 0. 0. 0.]\n"
     ]
    }
   ],
   "source": [
    "# Create a null vector of size 10\n",
    "null_vector = np.zeros(10)\n",
    "\n",
    "print(\"Null Vector:\")\n",
    "print(null_vector)\n"
   ]
  },
  {
   "cell_type": "markdown",
   "metadata": {},
   "source": [
    "# 4."
   ]
  },
  {
   "cell_type": "code",
   "execution_count": 6,
   "metadata": {},
   "outputs": [
    {
     "name": "stdout",
     "output_type": "stream",
     "text": [
      "Memory size of the array: 20 bytes\n"
     ]
    }
   ],
   "source": [
    "# Create a NumPy array\n",
    "my_array = np.array([1, 2, 3, 4, 5])\n",
    "\n",
    "# Find the memory size of the array\n",
    "memory_size = my_array.nbytes\n",
    "\n",
    "print(f\"Memory size of the array: {memory_size} bytes\")\n"
   ]
  },
  {
   "cell_type": "markdown",
   "metadata": {},
   "source": [
    "# 5."
   ]
  },
  {
   "cell_type": "code",
   "execution_count": 7,
   "metadata": {},
   "outputs": [
    {
     "name": "stdout",
     "output_type": "stream",
     "text": [
      "Help on ufunc:\n",
      "\n",
      "add = <ufunc 'add'>\n",
      "    add(x1, x2, /, out=None, *, where=True, casting='same_kind', order='K', dtype=None, subok=True[, signature, extobj])\n",
      "\n",
      "    Add arguments element-wise.\n",
      "\n",
      "    Parameters\n",
      "    ----------\n",
      "    x1, x2 : array_like\n",
      "        The arrays to be added.\n",
      "        If ``x1.shape != x2.shape``, they must be broadcastable to a common\n",
      "        shape (which becomes the shape of the output).\n",
      "    out : ndarray, None, or tuple of ndarray and None, optional\n",
      "        A location into which the result is stored. If provided, it must have\n",
      "        a shape that the inputs broadcast to. If not provided or None,\n",
      "        a freshly-allocated array is returned. A tuple (possible only as a\n",
      "        keyword argument) must have length equal to the number of outputs.\n",
      "    where : array_like, optional\n",
      "        This condition is broadcast over the input. At locations where the\n",
      "        condition is True, the `out` array will be set to the ufunc result.\n",
      "        Elsewhere, the `out` array will retain its original value.\n",
      "        Note that if an uninitialized `out` array is created via the default\n",
      "        ``out=None``, locations within it where the condition is False will\n",
      "        remain uninitialized.\n",
      "    **kwargs\n",
      "        For other keyword-only arguments, see the\n",
      "        :ref:`ufunc docs <ufuncs.kwargs>`.\n",
      "\n",
      "    Returns\n",
      "    -------\n",
      "    add : ndarray or scalar\n",
      "        The sum of `x1` and `x2`, element-wise.\n",
      "        This is a scalar if both `x1` and `x2` are scalars.\n",
      "\n",
      "    Notes\n",
      "    -----\n",
      "    Equivalent to `x1` + `x2` in terms of array broadcasting.\n",
      "\n",
      "    Examples\n",
      "    --------\n",
      "    >>> np.add(1.0, 4.0)\n",
      "    5.0\n",
      "    >>> x1 = np.arange(9.0).reshape((3, 3))\n",
      "    >>> x2 = np.arange(3.0)\n",
      "    >>> np.add(x1, x2)\n",
      "    array([[  0.,   2.,   4.],\n",
      "           [  3.,   5.,   7.],\n",
      "           [  6.,   8.,  10.]])\n",
      "\n",
      "    The ``+`` operator can be used as a shorthand for ``np.add`` on ndarrays.\n",
      "\n",
      "    >>> x1 = np.arange(9.0).reshape((3, 3))\n",
      "    >>> x2 = np.arange(3.0)\n",
      "    >>> x1 + x2\n",
      "    array([[ 0.,  2.,  4.],\n",
      "           [ 3.,  5.,  7.],\n",
      "           [ 6.,  8., 10.]])\n",
      "\n"
     ]
    }
   ],
   "source": [
    "help(np.add)"
   ]
  },
  {
   "cell_type": "markdown",
   "metadata": {},
   "source": [
    "# 6."
   ]
  },
  {
   "cell_type": "code",
   "execution_count": 8,
   "metadata": {},
   "outputs": [
    {
     "name": "stdout",
     "output_type": "stream",
     "text": [
      "[0. 0. 0. 0. 1. 0. 0. 0. 0. 0.]\n"
     ]
    }
   ],
   "source": [
    "\n",
    "# Create a null vector of size 10\n",
    "null_vector = np.zeros(10)\n",
    "\n",
    "# Set the fifth value (index 4) to 1\n",
    "null_vector[4] = 1\n",
    "\n",
    "print(null_vector)\n"
   ]
  },
  {
   "cell_type": "markdown",
   "metadata": {},
   "source": [
    "# 7."
   ]
  },
  {
   "cell_type": "code",
   "execution_count": 9,
   "metadata": {},
   "outputs": [
    {
     "name": "stdout",
     "output_type": "stream",
     "text": [
      "[10 11 12 13 14 15 16 17 18 19 20 21 22 23 24 25 26 27 28 29 30 31 32 33\n",
      " 34 35 36 37 38 39 40 41 42 43 44 45 46 47 48 49]\n"
     ]
    }
   ],
   "source": [
    "# Create a vector with values ranging from 10 to 49\n",
    "vector = np.arange(10, 50)\n",
    "\n",
    "print(vector)\n"
   ]
  },
  {
   "cell_type": "markdown",
   "metadata": {},
   "source": [
    "# 8."
   ]
  },
  {
   "cell_type": "code",
   "execution_count": 10,
   "metadata": {},
   "outputs": [
    {
     "name": "stdout",
     "output_type": "stream",
     "text": [
      "[5 4 3 2 1]\n"
     ]
    }
   ],
   "source": [
    "# Create a sample vector\n",
    "vector = np.array([1, 2, 3, 4, 5])\n",
    "\n",
    "# Reverse the vector\n",
    "reversed_vector = vector[::-1]\n",
    "\n",
    "print(reversed_vector)\n"
   ]
  },
  {
   "cell_type": "markdown",
   "metadata": {},
   "source": [
    "# 9."
   ]
  },
  {
   "cell_type": "code",
   "execution_count": 11,
   "metadata": {},
   "outputs": [
    {
     "name": "stdout",
     "output_type": "stream",
     "text": [
      "[[0 1 2]\n",
      " [3 4 5]\n",
      " [6 7 8]]\n"
     ]
    }
   ],
   "source": [
    "# Create an array with values ranging from 0 to 8\n",
    "array = np.arange(9)\n",
    "\n",
    "# Reshape the array into a 3x3 matrix\n",
    "matrix = array.reshape(3, 3)\n",
    "\n",
    "print(matrix)\n"
   ]
  },
  {
   "cell_type": "markdown",
   "metadata": {},
   "source": [
    "# 10."
   ]
  },
  {
   "cell_type": "code",
   "execution_count": 12,
   "metadata": {},
   "outputs": [
    {
     "name": "stdout",
     "output_type": "stream",
     "text": [
      "(array([0, 1, 4], dtype=int64),)\n"
     ]
    }
   ],
   "source": [
    "\n",
    "# Create the array\n",
    "arr = np.array([1, 2, 0, 0, 4, 0])\n",
    "\n",
    "# Find the indices of non-zero elements\n",
    "indices = np.nonzero(arr)\n",
    "\n",
    "print(indices)\n"
   ]
  },
  {
   "cell_type": "markdown",
   "metadata": {},
   "source": [
    "## 11."
   ]
  },
  {
   "cell_type": "code",
   "execution_count": 13,
   "metadata": {},
   "outputs": [
    {
     "name": "stdout",
     "output_type": "stream",
     "text": [
      "[[1. 0. 0.]\n",
      " [0. 1. 0.]\n",
      " [0. 0. 1.]]\n"
     ]
    }
   ],
   "source": [
    " # Create a 3x3 identity matrix\n",
    "identity_matrix = np.eye(3, k=0)\n",
    "\n",
    "print(identity_matrix)"
   ]
  },
  {
   "cell_type": "markdown",
   "metadata": {},
   "source": [
    "# 12."
   ]
  },
  {
   "cell_type": "code",
   "execution_count": 16,
   "metadata": {},
   "outputs": [
    {
     "name": "stdout",
     "output_type": "stream",
     "text": [
      "[[[0.5319613687742569, 0.6264291219390473, 0.1956762163739182], [0.05551412545610601, 0.40074094464584864, 0.9600981077990383], [0.14258003668574493, 0.019234220556600734, 0.20203728451785008]], [[0.42954659018057917, 0.2761956581777708, 0.6213726593751309], [0.560342829816326, 0.26224375582633164, 0.8646189789620448], [0.6809239586052598, 0.3116877362832139, 0.0807562031593847]], [[0.35662334708705135, 0.38590872134540544, 0.14408384219064396], [0.507932131780235, 0.9539367253277105, 0.3153577518875481], [0.13036659383065463, 0.6931991709739849, 0.2540450803319716]]]\n"
     ]
    }
   ],
   "source": [
    "import random\n",
    "\n",
    "# Create a 3x3x3 array with random values\n",
    "array = [[[random.random() for _ in range(3)] for _ in range(3)] for _ in range(3)]\n",
    "\n",
    "print(array)\n"
   ]
  },
  {
   "cell_type": "markdown",
   "metadata": {},
   "source": [
    "# 13."
   ]
  },
  {
   "cell_type": "code",
   "execution_count": 17,
   "metadata": {},
   "outputs": [
    {
     "name": "stdout",
     "output_type": "stream",
     "text": [
      "Minimum value: 0\n",
      "Maximum value: 98\n"
     ]
    }
   ],
   "source": [
    "# Create a 10x10 array with random values\n",
    "array = [[random.randint(0, 100) for _ in range(10)] for _ in range(10)]\n",
    "\n",
    "# Find the minimum and maximum values\n",
    "min_value = min(min(row) for row in array)\n",
    "max_value = max(max(row) for row in array)\n",
    "\n",
    "print(\"Minimum value:\", min_value)\n",
    "print(\"Maximum value:\", max_value)\n"
   ]
  },
  {
   "cell_type": "markdown",
   "metadata": {},
   "source": [
    "# 14."
   ]
  },
  {
   "cell_type": "code",
   "execution_count": 18,
   "metadata": {},
   "outputs": [
    {
     "name": "stdout",
     "output_type": "stream",
     "text": [
      "Mean value: 0.45136651545775414\n"
     ]
    }
   ],
   "source": [
    "# Create a random vector of size 30\n",
    "random_vector = [random.random() for _ in range(30)]\n",
    "\n",
    "# Find the mean value\n",
    "mean_value = sum(random_vector) / len(random_vector)\n",
    "\n",
    "print(\"Mean value:\", mean_value)\n"
   ]
  },
  {
   "cell_type": "markdown",
   "metadata": {},
   "source": [
    "# 15."
   ]
  },
  {
   "cell_type": "code",
   "execution_count": 19,
   "metadata": {},
   "outputs": [
    {
     "name": "stdout",
     "output_type": "stream",
     "text": [
      "[1, 1, 1, 1, 1]\n",
      "[1, 0, 0, 0, 1]\n",
      "[1, 0, 0, 0, 1]\n",
      "[1, 0, 0, 0, 1]\n",
      "[1, 1, 1, 1, 1]\n"
     ]
    }
   ],
   "source": [
    "# Define the dimensions of the 2D array\n",
    "rows = 5\n",
    "cols = 5\n",
    "\n",
    "# Create the 2D array with 1 on the border and 0 inside\n",
    "array = [[1 if i == 0 or i == rows - 1 or j == 0 or j == cols - 1 else 0 \n",
    "          for j in range(cols)] for i in range(rows)]\n",
    "\n",
    "# Print the array\n",
    "for row in array:\n",
    "    print(row)\n"
   ]
  },
  {
   "cell_type": "markdown",
   "metadata": {},
   "source": [
    "# 16."
   ]
  },
  {
   "cell_type": "code",
   "execution_count": 20,
   "metadata": {},
   "outputs": [
    {
     "name": "stdout",
     "output_type": "stream",
     "text": [
      "[[0. 0. 0. 0. 0.]\n",
      " [0. 1. 1. 1. 0.]\n",
      " [0. 1. 1. 1. 0.]\n",
      " [0. 1. 1. 1. 0.]\n",
      " [0. 0. 0. 0. 0.]]\n"
     ]
    }
   ],
   "source": [
    "# Create an existing array\n",
    "existing_array = np.ones((3, 3))\n",
    "\n",
    "# Add a border of zeros around the existing array\n",
    "array_with_border = np.pad(existing_array, pad_width=1, mode='constant', constant_values=0)\n",
    "\n",
    "print(array_with_border)"
   ]
  },
  {
   "cell_type": "markdown",
   "metadata": {},
   "source": [
    "# 17."
   ]
  },
  {
   "cell_type": "code",
   "execution_count": 21,
   "metadata": {},
   "outputs": [
    {
     "name": "stdout",
     "output_type": "stream",
     "text": [
      "nan\n",
      "False\n",
      "False\n",
      "nan\n",
      "True\n",
      "False\n"
     ]
    }
   ],
   "source": [
    "print(0 * np.nan)       # nan\n",
    "print(np.nan == np.nan) # False\n",
    "print(np.inf > np.nan)  # False\n",
    "print(np.nan - np.nan)  # nan\n",
    "print(np.nan in set([np.nan]))  # True\n",
    "print(0.3 == 3 * 0.1)   # False"
   ]
  },
  {
   "cell_type": "markdown",
   "metadata": {},
   "source": [
    "# 18"
   ]
  },
  {
   "cell_type": "code",
   "execution_count": 22,
   "metadata": {},
   "outputs": [
    {
     "name": "stdout",
     "output_type": "stream",
     "text": [
      "[[0. 0. 0. 0. 0.]\n",
      " [1. 0. 0. 0. 0.]\n",
      " [0. 2. 0. 0. 0.]\n",
      " [0. 0. 3. 0. 0.]\n",
      " [0. 0. 0. 4. 0.]]\n"
     ]
    }
   ],
   "source": [
    "# Create a 5x5 matrix filled with zeros\n",
    "matrix = np.zeros((5, 5))\n",
    "\n",
    "# Set values 1, 2, 3, 4 just below the diagonal\n",
    "np.fill_diagonal(matrix[1:], [1, 2, 3, 4])\n",
    "\n",
    "print(matrix)\n"
   ]
  },
  {
   "cell_type": "markdown",
   "metadata": {},
   "source": [
    "# 19."
   ]
  },
  {
   "cell_type": "code",
   "execution_count": 23,
   "metadata": {},
   "outputs": [
    {
     "name": "stdout",
     "output_type": "stream",
     "text": [
      "[[1 0 1 0 1 0 1 0]\n",
      " [0 1 0 1 0 1 0 1]\n",
      " [1 0 1 0 1 0 1 0]\n",
      " [0 1 0 1 0 1 0 1]\n",
      " [1 0 1 0 1 0 1 0]\n",
      " [0 1 0 1 0 1 0 1]\n",
      " [1 0 1 0 1 0 1 0]\n",
      " [0 1 0 1 0 1 0 1]]\n"
     ]
    }
   ],
   "source": [
    "\n",
    "# Create an 8x8 matrix filled with zeros\n",
    "matrix = np.zeros((8, 8), dtype=int)\n",
    "\n",
    "# Set alternating values to 1\n",
    "matrix[::2, ::2] = 1\n",
    "matrix[1::2, 1::2] = 1\n",
    "\n",
    "print(matrix)\n"
   ]
  },
  {
   "cell_type": "markdown",
   "metadata": {},
   "source": [
    "# 20."
   ]
  },
  {
   "cell_type": "code",
   "execution_count": 7,
   "metadata": {},
   "outputs": [
    {
     "name": "stdout",
     "output_type": "stream",
     "text": [
      "Index (x, y, z) of the 100th element: (1, 5, 4)\n"
     ]
    }
   ],
   "source": [
    "\n",
    "# Define the shape of the array\n",
    "shape = (6, 7, 8)\n",
    "\n",
    "# Flatten index of the 100th element\n",
    "flat_index = 100\n",
    "\n",
    "# Convert the flattened index to the corresponding multi-dimensional index\n",
    "indices = np.unravel_index(flat_index, shape)\n",
    "\n",
    "print(\"Index (x, y, z) of the 100th element:\", indices)"
   ]
  },
  {
   "cell_type": "markdown",
   "metadata": {},
   "source": [
    "# 21."
   ]
  },
  {
   "cell_type": "code",
   "execution_count": 8,
   "metadata": {},
   "outputs": [
    {
     "name": "stdout",
     "output_type": "stream",
     "text": [
      "[[1 0 1 0 1 0 1 0]\n",
      " [0 1 0 1 0 1 0 1]\n",
      " [1 0 1 0 1 0 1 0]\n",
      " [0 1 0 1 0 1 0 1]\n",
      " [1 0 1 0 1 0 1 0]\n",
      " [0 1 0 1 0 1 0 1]\n",
      " [1 0 1 0 1 0 1 0]\n",
      " [0 1 0 1 0 1 0 1]]\n"
     ]
    }
   ],
   "source": [
    "# Create a 2x2 tile with 1s and 0s\n",
    "tile = np.array([[1, 0], [0, 1]])\n",
    "\n",
    "# Use tile function to repeat the tile to form an 8x8 matrix\n",
    "checkerboard = np.tile(tile, (4, 4))\n",
    "\n",
    "print(checkerboard)"
   ]
  },
  {
   "cell_type": "markdown",
   "metadata": {},
   "source": [
    "# 22."
   ]
  },
  {
   "cell_type": "code",
   "execution_count": 9,
   "metadata": {},
   "outputs": [
    {
     "name": "stdout",
     "output_type": "stream",
     "text": [
      "Original Matrix:\n",
      "[[0.39723058 0.85878709 0.90444468 0.73694153 0.79766446]\n",
      " [0.95224248 0.80833098 0.0918271  0.05734079 0.29446081]\n",
      " [0.88977718 0.06043705 0.7152526  0.36169286 0.06261196]\n",
      " [0.2480474  0.20880153 0.65752953 0.20333244 0.43168571]\n",
      " [0.16260711 0.61329058 0.51253959 0.85775    0.42770404]]\n",
      "\n",
      "Normalized Matrix:\n",
      "[[0.41715276 0.90185757 0.94980501 0.77390113 0.83766948]\n",
      " [1.         0.84887096 0.09643247 0.06021659 0.30922881]\n",
      " [0.9344019  0.06346813 0.75112444 0.37983273 0.06575212]\n",
      " [0.26048764 0.21927349 0.6905064  0.2135301  0.4533359 ]\n",
      " [0.1707623  0.64404875 0.53824483 0.90076847 0.44915454]]\n"
     ]
    }
   ],
   "source": [
    "# Create a random 5x5 matrix\n",
    "random_matrix = np.random.rand(5, 5)\n",
    "\n",
    "# Find the maximum element in the matrix\n",
    "max_value = np.max(random_matrix)\n",
    "\n",
    "# Normalize the matrix by dividing each element by the maximum value\n",
    "normalized_matrix = random_matrix / max_value\n",
    "\n",
    "print(\"Original Matrix:\")\n",
    "print(random_matrix)\n",
    "print(\"\\nNormalized Matrix:\")\n",
    "print(normalized_matrix)"
   ]
  },
  {
   "cell_type": "markdown",
   "metadata": {},
   "source": [
    "# 23."
   ]
  },
  {
   "cell_type": "code",
   "execution_count": 10,
   "metadata": {},
   "outputs": [
    {
     "name": "stdout",
     "output_type": "stream",
     "text": [
      "Color as a custom dtype:\n",
      "(255, 128, 0, 255)\n"
     ]
    }
   ],
   "source": [
    "# Define custom dtype for color as four unsigned bytes\n",
    "color_dtype = np.dtype([('R', np.uint8), ('G', np.uint8), ('B', np.uint8), ('A', np.uint8)])\n",
    "\n",
    "# Example color (255, 128, 0, 255) - (R, G, B, A)\n",
    "color = np.array((255, 128, 0, 255), dtype=color_dtype)\n",
    "\n",
    "print(\"Color as a custom dtype:\")\n",
    "print(color)"
   ]
  },
  {
   "cell_type": "markdown",
   "metadata": {},
   "source": [
    "# 24."
   ]
  },
  {
   "cell_type": "code",
   "execution_count": 11,
   "metadata": {},
   "outputs": [
    {
     "name": "stdout",
     "output_type": "stream",
     "text": [
      "Result of matrix multiplication:\n",
      "[[0.99071091 0.65518211]\n",
      " [0.52868675 0.27265775]\n",
      " [0.59484075 0.88533785]\n",
      " [0.2887588  0.78485914]\n",
      " [0.52977273 0.77265923]]\n"
     ]
    }
   ],
   "source": [
    "# Create a 5x3 matrix\n",
    "matrix1 = np.random.random((5, 3))\n",
    "\n",
    "# Create a 3x2 matrix\n",
    "matrix2 = np.random.random((3, 2))\n",
    "\n",
    "# Perform matrix multiplication\n",
    "result = np.dot(matrix1, matrix2)\n",
    "\n",
    "print(\"Result of matrix multiplication:\")\n",
    "print(result)"
   ]
  },
  {
   "cell_type": "markdown",
   "metadata": {},
   "source": [
    "# 25."
   ]
  },
  {
   "cell_type": "code",
   "execution_count": 12,
   "metadata": {},
   "outputs": [
    {
     "name": "stdout",
     "output_type": "stream",
     "text": [
      "Modified array:\n",
      "[ 1  2  3 -4 -5 -6 -7  8  9 10]\n"
     ]
    }
   ],
   "source": [
    "# Create a sample 1D array\n",
    "arr = np.array([1, 2, 3, 4, 5, 6, 7, 8, 9, 10])\n",
    "\n",
    "# Negate elements between 3 and 8 in place\n",
    "arr[(arr > 3) & (arr < 8)] *= -1\n",
    "\n",
    "print(\"Modified array:\")\n",
    "print(arr)\n"
   ]
  },
  {
   "cell_type": "markdown",
   "metadata": {},
   "source": [
    "# 26."
   ]
  },
  {
   "cell_type": "code",
   "execution_count": 15,
   "metadata": {},
   "outputs": [
    {
     "name": "stdout",
     "output_type": "stream",
     "text": [
      "9\n",
      "10\n"
     ]
    }
   ],
   "source": [
    "print(sum(range(5),-1))\n",
    "from numpy import *\n",
    "print(sum(range(5),-1))"
   ]
  },
  {
   "cell_type": "markdown",
   "metadata": {},
   "source": [
    "# 27."
   ]
  },
  {
   "cell_type": "code",
   "execution_count": null,
   "metadata": {},
   "outputs": [],
   "source": []
  },
  {
   "cell_type": "markdown",
   "metadata": {},
   "source": [
    "# 28."
   ]
  },
  {
   "cell_type": "code",
   "execution_count": 17,
   "metadata": {},
   "outputs": [
    {
     "name": "stderr",
     "output_type": "stream",
     "text": [
      "C:\\Users\\My Pc\\AppData\\Local\\Temp\\ipykernel_1428\\548293649.py:1: RuntimeWarning: invalid value encountered in divide\n",
      "  np.array(0) / np.array(0)\n",
      "C:\\Users\\My Pc\\AppData\\Local\\Temp\\ipykernel_1428\\548293649.py:2: RuntimeWarning: divide by zero encountered in floor_divide\n",
      "  np.array(0) // np.array(0)\n",
      "C:\\Users\\My Pc\\AppData\\Local\\Temp\\ipykernel_1428\\548293649.py:3: RuntimeWarning: invalid value encountered in cast\n",
      "  np.array([np.nan]).astype(int).astype(float)\n"
     ]
    },
    {
     "data": {
      "text/plain": [
       "array([-2.14748365e+09])"
      ]
     },
     "execution_count": 17,
     "metadata": {},
     "output_type": "execute_result"
    }
   ],
   "source": [
    "np.array(0) / np.array(0)\n",
    "np.array(0) // np.array(0)\n",
    "np.array([np.nan]).astype(int).astype(float)"
   ]
  },
  {
   "cell_type": "markdown",
   "metadata": {},
   "source": [
    "# 29."
   ]
  },
  {
   "cell_type": "code",
   "execution_count": 18,
   "metadata": {},
   "outputs": [
    {
     "name": "stdout",
     "output_type": "stream",
     "text": [
      "Original array:\n",
      "[-1.5  2.3 -3.7  4.8 -5.1]\n",
      "\n",
      "Rounded away from zero array:\n",
      "[-2.  3. -4.  5. -6.]\n"
     ]
    }
   ],
   "source": [
    "\n",
    "def round_away_from_zero(arr):\n",
    "    # Find the sign of each element\n",
    "    signs = np.sign(arr)\n",
    "    \n",
    "    # Round each element towards positive infinity if positive\n",
    "    positive_rounded = np.ceil(arr) * (signs > 0)\n",
    "    \n",
    "    # Round each element towards negative infinity if negative\n",
    "    negative_rounded = np.floor(arr) * (signs < 0)\n",
    "    \n",
    "    # Combine positive and negative rounded arrays\n",
    "    rounded_arr = positive_rounded + negative_rounded\n",
    "    \n",
    "    return rounded_arr\n",
    "\n",
    "# Example float array\n",
    "float_arr = np.array([-1.5, 2.3, -3.7, 4.8, -5.1])\n",
    "\n",
    "# Round away from zero\n",
    "rounded_arr = round_away_from_zero(float_arr)\n",
    "\n",
    "print(\"Original array:\")\n",
    "print(float_arr)\n",
    "print(\"\\nRounded away from zero array:\")\n",
    "print(rounded_arr)\n"
   ]
  },
  {
   "cell_type": "markdown",
   "metadata": {},
   "source": [
    "# 30."
   ]
  },
  {
   "cell_type": "code",
   "execution_count": 19,
   "metadata": {},
   "outputs": [
    {
     "name": "stdout",
     "output_type": "stream",
     "text": [
      "Common values: [3 4 5]\n"
     ]
    }
   ],
   "source": [
    "\n",
    "# Example arrays\n",
    "array1 = np.array([1, 2, 3, 4, 5])\n",
    "array2 = np.array([3, 4, 5, 6, 7])\n",
    "\n",
    "# Find common values\n",
    "common_values = np.intersect1d(array1, array2)\n",
    "\n",
    "print(\"Common values:\", common_values)\n"
   ]
  },
  {
   "cell_type": "markdown",
   "metadata": {},
   "source": [
    "# 31."
   ]
  },
  {
   "cell_type": "code",
   "execution_count": 20,
   "metadata": {},
   "outputs": [
    {
     "data": {
      "text/plain": [
       "{'divide': 'ignore', 'over': 'ignore', 'under': 'ignore', 'invalid': 'ignore'}"
      ]
     },
     "execution_count": 20,
     "metadata": {},
     "output_type": "execute_result"
    }
   ],
   "source": [
    "# Ignore all NumPy warnings\n",
    "np.seterr(all='ignore')\n",
    "\n",
    "# Your code here\n",
    "\n",
    "# Reset warnings to default behavior\n",
    "np.seterr(all='warn')\n"
   ]
  },
  {
   "cell_type": "markdown",
   "metadata": {},
   "source": [
    "# 32."
   ]
  },
  {
   "cell_type": "code",
   "execution_count": 21,
   "metadata": {},
   "outputs": [
    {
     "name": "stderr",
     "output_type": "stream",
     "text": [
      "C:\\Users\\My Pc\\AppData\\Local\\Temp\\ipykernel_1428\\244602691.py:1: RuntimeWarning: invalid value encountered in sqrt\n",
      "  np.sqrt(-1) == np.emath.sqrt(-1)\n"
     ]
    },
    {
     "data": {
      "text/plain": [
       "False"
      ]
     },
     "execution_count": 21,
     "metadata": {},
     "output_type": "execute_result"
    }
   ],
   "source": [
    "np.sqrt(-1) == np.emath.sqrt(-1)"
   ]
  },
  {
   "cell_type": "markdown",
   "metadata": {},
   "source": [
    "# 33."
   ]
  },
  {
   "cell_type": "code",
   "execution_count": 22,
   "metadata": {},
   "outputs": [
    {
     "name": "stdout",
     "output_type": "stream",
     "text": [
      "Yesterday: 2024-02-14\n",
      "Today: 2024-02-15\n",
      "Tomorrow: 2024-02-16\n"
     ]
    }
   ],
   "source": [
    "from datetime import datetime, timedelta\n",
    "\n",
    "# Get today's date\n",
    "today = datetime.now().date()\n",
    "\n",
    "# Get yesterday's date\n",
    "yesterday = today - timedelta(days=1)\n",
    "\n",
    "# Get tomorrow's date\n",
    "tomorrow = today + timedelta(days=1)\n",
    "\n",
    "print(\"Yesterday:\", yesterday)\n",
    "print(\"Today:\", today)\n",
    "print(\"Tomorrow:\", tomorrow)\n"
   ]
  },
  {
   "cell_type": "markdown",
   "metadata": {},
   "source": [
    "# 34."
   ]
  },
  {
   "cell_type": "code",
   "execution_count": 23,
   "metadata": {},
   "outputs": [
    {
     "name": "stdout",
     "output_type": "stream",
     "text": [
      "2016-07-01 00:00:00\n",
      "2016-07-02 00:00:00\n",
      "2016-07-03 00:00:00\n",
      "2016-07-04 00:00:00\n",
      "2016-07-05 00:00:00\n",
      "2016-07-06 00:00:00\n",
      "2016-07-07 00:00:00\n",
      "2016-07-08 00:00:00\n",
      "2016-07-09 00:00:00\n",
      "2016-07-10 00:00:00\n",
      "2016-07-11 00:00:00\n",
      "2016-07-12 00:00:00\n",
      "2016-07-13 00:00:00\n",
      "2016-07-14 00:00:00\n",
      "2016-07-15 00:00:00\n",
      "2016-07-16 00:00:00\n",
      "2016-07-17 00:00:00\n",
      "2016-07-18 00:00:00\n",
      "2016-07-19 00:00:00\n",
      "2016-07-20 00:00:00\n",
      "2016-07-21 00:00:00\n",
      "2016-07-22 00:00:00\n",
      "2016-07-23 00:00:00\n",
      "2016-07-24 00:00:00\n",
      "2016-07-25 00:00:00\n",
      "2016-07-26 00:00:00\n",
      "2016-07-27 00:00:00\n",
      "2016-07-28 00:00:00\n",
      "2016-07-29 00:00:00\n",
      "2016-07-30 00:00:00\n",
      "2016-07-31 00:00:00\n"
     ]
    }
   ],
   "source": [
    "from datetime import datetime, timedelta\n",
    "\n",
    "# Define the start and end dates of July 2016\n",
    "start_date = datetime(2016, 7, 1)\n",
    "end_date = datetime(2016, 8, 1)\n",
    "\n",
    "# Generate all dates for July 2016\n",
    "dates_july_2016 = [start_date + timedelta(days=x) for x in range((end_date - start_date).days)]\n",
    "\n",
    "# Print the dates\n",
    "for date in dates_july_2016:\n",
    "    print(date)\n"
   ]
  },
  {
   "cell_type": "markdown",
   "metadata": {},
   "source": [
    "# 35."
   ]
  },
  {
   "cell_type": "code",
   "execution_count": 26,
   "metadata": {},
   "outputs": [
    {
     "name": "stdout",
     "output_type": "stream",
     "text": [
      "Result after computation in place: [ -2.  -7. -13.]\n"
     ]
    }
   ],
   "source": [
    "import numpy as np\n",
    "\n",
    "# Example arrays A and B\n",
    "A = np.array([1, 2, 3], dtype=np.float64)\n",
    "B = np.array([4, 5, 6], dtype=np.float64)\n",
    "\n",
    "# Compute the expression ((A+B)*(-A/2)) and cast to integers\n",
    "result = np.multiply(np.add(A, B), np.negative(np.divide(A, 2)))\n",
    "\n",
    "# Store the result in array A (after casting to integers)\n",
    "A[:] = result.astype(np.int32)\n",
    "\n",
    "print(\"Result after computation in place:\", A)\n"
   ]
  },
  {
   "cell_type": "markdown",
   "metadata": {},
   "source": [
    "# 36."
   ]
  },
  {
   "cell_type": "code",
   "execution_count": 27,
   "metadata": {},
   "outputs": [
    {
     "name": "stdout",
     "output_type": "stream",
     "text": [
      "Method 1 (Numpy floor): [9. 8. 1. 6. 5.]\n",
      "Method 2 (Numpy trunc): [9. 8. 1. 6. 5.]\n",
      "Method 2 (Numpy trunc): [9. 8. 1. 6. 5.]\n",
      "Method 4 (List comprehension with int): [9, 8, 1, 6, 5]\n"
     ]
    }
   ],
   "source": [
    "\n",
    "# Generate a random array of positive numbers\n",
    "random_array = np.random.rand(5) * 10  # Generate random numbers between 0 and 10\n",
    "\n",
    "# Extract the integer part using numpy's floor function\n",
    "integer_part = np.floor(random_array)\n",
    "\n",
    "print(\"Method 1 (Numpy floor):\", integer_part)\n",
    "\n",
    "\n",
    "#Method 2\n",
    "# Extract the integer part using numpy's trunc function\n",
    "integer_part = np.trunc(random_array)\n",
    "\n",
    "print(\"Method 2 (Numpy trunc):\", integer_part)\n",
    "\n",
    "\n",
    "#MEthod 3\n",
    "# Extract the integer part using numpy's trunc function\n",
    "integer_part = np.trunc(random_array)\n",
    "\n",
    "print(\"Method 2 (Numpy trunc):\", integer_part)\n",
    "\n",
    "\n",
    "# Method 4\n",
    "# Extract the integer part using list comprehension\n",
    "integer_part = [int(x) for x in random_array]\n",
    "\n",
    "print(\"Method 4 (List comprehension with int):\", integer_part)\n"
   ]
  },
  {
   "cell_type": "markdown",
   "metadata": {},
   "source": [
    "# 37."
   ]
  },
  {
   "cell_type": "code",
   "execution_count": 28,
   "metadata": {},
   "outputs": [
    {
     "name": "stdout",
     "output_type": "stream",
     "text": [
      "[[0 1 2 3 4]\n",
      " [1 2 3 4 5]\n",
      " [2 3 4 5 6]\n",
      " [3 4 5 6 7]\n",
      " [4 5 6 7 8]]\n"
     ]
    }
   ],
   "source": [
    "\n",
    "# Create a 1D array with values ranging from 0 to 4\n",
    "row_values = np.arange(5)\n",
    "\n",
    "# Use broadcasting to create a 5x5 matrix\n",
    "matrix = row_values.reshape(-1, 1) + row_values\n",
    "\n",
    "print(matrix)\n"
   ]
  },
  {
   "cell_type": "markdown",
   "metadata": {},
   "source": [
    "# 38."
   ]
  },
  {
   "cell_type": "code",
   "execution_count": 29,
   "metadata": {},
   "outputs": [
    {
     "name": "stdout",
     "output_type": "stream",
     "text": [
      "[0 1 2 3 4 5 6 7 8 9]\n"
     ]
    }
   ],
   "source": [
    "\n",
    "def generate_integers():\n",
    "    for i in range(10):\n",
    "        yield i\n",
    "\n",
    "# Generate integers using the generator function\n",
    "integers_generator = generate_integers()\n",
    "\n",
    "# Build an array using NumPy\n",
    "array = np.fromiter(integers_generator, dtype=int)\n",
    "\n",
    "print(array)\n"
   ]
  },
  {
   "cell_type": "markdown",
   "metadata": {},
   "source": [
    "# 39."
   ]
  },
  {
   "cell_type": "code",
   "execution_count": 31,
   "metadata": {},
   "outputs": [
    {
     "name": "stdout",
     "output_type": "stream",
     "text": [
      "[0.09090909 0.18181818 0.27272727 0.36363636 0.45454545 0.54545455\n",
      " 0.63636364 0.72727273 0.81818182 0.90909091]\n"
     ]
    }
   ],
   "source": [
    "# Create a vector of size 10 with values ranging from 0 to 1 (both excluded)\n",
    "vector = np.linspace(0, 1, 12)[1:-1]\n",
    "\n",
    "print(vector)\n"
   ]
  },
  {
   "cell_type": "markdown",
   "metadata": {},
   "source": [
    "# 40."
   ]
  },
  {
   "cell_type": "code",
   "execution_count": 32,
   "metadata": {},
   "outputs": [
    {
     "name": "stdout",
     "output_type": "stream",
     "text": [
      "Random vector: [0.09328247 0.38275982 0.19730504 0.98265714 0.99466562 0.08304783\n",
      " 0.17604621 0.78673532 0.64336827 0.02126177]\n",
      "Sorted vector: [0.02126177 0.08304783 0.09328247 0.17604621 0.19730504 0.38275982\n",
      " 0.64336827 0.78673532 0.98265714 0.99466562]\n"
     ]
    }
   ],
   "source": [
    "# Create a random vector of size 10\n",
    "random_vector = np.random.rand(10)\n",
    "\n",
    "# Sort the random vector\n",
    "sorted_vector = np.sort(random_vector)\n",
    "\n",
    "print(\"Random vector:\", random_vector)\n",
    "print(\"Sorted vector:\", sorted_vector)\n"
   ]
  },
  {
   "cell_type": "markdown",
   "metadata": {},
   "source": [
    "# 41."
   ]
  },
  {
   "cell_type": "code",
   "execution_count": 33,
   "metadata": {},
   "outputs": [
    {
     "name": "stdout",
     "output_type": "stream",
     "text": [
      "Sum using np.sum: 15\n"
     ]
    }
   ],
   "source": [
    "# Example small array\n",
    "arr = np.array([1, 2, 3, 4, 5])\n",
    "\n",
    "# Sum using Python's built-in addition operator\n",
    "result = np.sum(arr)\n",
    "\n",
    "print(\"Sum using np.sum:\", result)\n"
   ]
  },
  {
   "cell_type": "markdown",
   "metadata": {},
   "source": [
    "# 42."
   ]
  },
  {
   "cell_type": "code",
   "execution_count": 34,
   "metadata": {},
   "outputs": [
    {
     "name": "stdout",
     "output_type": "stream",
     "text": [
      "Array A: [0.73482564 0.49583533 0.10802369 0.83867696 0.87716934]\n",
      "Array B: [0.01842611 0.39319626 0.72223935 0.75474126 0.28811553]\n",
      "Are A and B equal? False\n"
     ]
    }
   ],
   "source": [
    "# Generate two random arrays A and B\n",
    "A = np.random.rand(5)\n",
    "B = np.random.rand(5)\n",
    "\n",
    "# Check if A and B are equal element-wise\n",
    "are_equal = np.array_equal(A, B)\n",
    "\n",
    "print(\"Array A:\", A)\n",
    "print(\"Array B:\", B)\n",
    "print(\"Are A and B equal?\", are_equal)\n"
   ]
  },
  {
   "cell_type": "markdown",
   "metadata": {},
   "source": [
    "# 43."
   ]
  },
  {
   "cell_type": "code",
   "execution_count": 35,
   "metadata": {},
   "outputs": [
    {
     "name": "stdout",
     "output_type": "stream",
     "text": [
      "Error: assignment destination is read-only\n"
     ]
    }
   ],
   "source": [
    "# Create an array\n",
    "arr = np.array([1, 2, 3, 4, 5])\n",
    "\n",
    "# Make the array read-only\n",
    "arr.flags.writeable = False\n",
    "\n",
    "# Try to modify the array (this will raise an error)\n",
    "try:\n",
    "    arr[0] = 10\n",
    "except ValueError as e:\n",
    "    print(\"Error:\", e)\n"
   ]
  },
  {
   "cell_type": "markdown",
   "metadata": {},
   "source": [
    "# 44."
   ]
  },
  {
   "cell_type": "code",
   "execution_count": 37,
   "metadata": {},
   "outputs": [
    {
     "name": "stdout",
     "output_type": "stream",
     "text": [
      "Cartesian Coordinates:\n",
      "[[0.9387614  0.16034439]\n",
      " [0.59590635 0.20387607]\n",
      " [0.17311816 0.05521599]\n",
      " [0.02094296 0.82407752]\n",
      " [0.53675357 0.17536136]\n",
      " [0.4666515  0.84099217]\n",
      " [0.86100955 0.08480086]\n",
      " [0.19152934 0.54893504]\n",
      " [0.70389497 0.97690394]\n",
      " [0.57920983 0.20506921]]\n",
      "\n",
      "Polar Coordinates:\n",
      "[[ 0.9523567   9.69282252]\n",
      " [ 0.6298173  18.88723816]\n",
      " [ 0.18171049 17.69006881]\n",
      " [ 0.8243436  88.54420853]\n",
      " [ 0.56467336 18.09259822]\n",
      " [ 0.96178555 60.97489011]\n",
      " [ 0.86517549  5.62492255]\n",
      " [ 0.581389   70.76557088]\n",
      " [ 1.20408032 54.22587242]\n",
      " [ 0.61444073 19.49650578]]\n"
     ]
    }
   ],
   "source": [
    "# Generate a random 10x2 matrix representing cartesian coordinates\n",
    "cartesian_coordinates = np.random.rand(10, 2)\n",
    "\n",
    "# Extract x and y coordinates\n",
    "x = cartesian_coordinates[:, 0]\n",
    "y = cartesian_coordinates[:, 1]\n",
    "\n",
    "# Calculate radius (r) and angle (theta) in radians\n",
    "r = np.linalg.norm(cartesian_coordinates, axis=1)\n",
    "theta = np.arctan2(y, x)\n",
    "\n",
    "# Convert angle from radians to degrees\n",
    "theta_degrees = np.degrees(theta)\n",
    "\n",
    "# Combine radius and angle to get polar coordinates\n",
    "polar_coordinates = np.column_stack((r, theta_degrees))\n",
    "\n",
    "print(\"Cartesian Coordinates:\")\n",
    "print(cartesian_coordinates)\n",
    "print(\"\\nPolar Coordinates:\")\n",
    "print(polar_coordinates)\n"
   ]
  },
  {
   "cell_type": "markdown",
   "metadata": {},
   "source": [
    "# 45."
   ]
  },
  {
   "cell_type": "code",
   "execution_count": 38,
   "metadata": {},
   "outputs": [
    {
     "name": "stdout",
     "output_type": "stream",
     "text": [
      "Random vector: [0.69289031 0.65048966 0.72840493 0.57361313 0.4967526  0.\n",
      " 0.80814599 0.48410328 0.22328691 0.66103851]\n"
     ]
    }
   ],
   "source": [
    "# Create a random vector of size 10\n",
    "random_vector = np.random.rand(10)\n",
    "\n",
    "# Find the index of the maximum value\n",
    "max_index = np.argmax(random_vector)\n",
    "\n",
    "# Replace the maximum value with 0\n",
    "random_vector[max_index] = 0\n",
    "\n",
    "print(\"Random vector:\", random_vector)\n"
   ]
  },
  {
   "cell_type": "markdown",
   "metadata": {},
   "source": [
    "# 46."
   ]
  },
  {
   "cell_type": "code",
   "execution_count": 39,
   "metadata": {},
   "outputs": [
    {
     "name": "stdout",
     "output_type": "stream",
     "text": [
      "Structured array:\n",
      "[(0.        , 0.        ) (0.11111111, 0.        )\n",
      " (0.22222222, 0.        ) (0.33333333, 0.        )\n",
      " (0.44444444, 0.        ) (0.55555556, 0.        )\n",
      " (0.66666667, 0.        ) (0.77777778, 0.        )\n",
      " (0.88888889, 0.        ) (1.        , 0.        )\n",
      " (0.        , 0.11111111) (0.11111111, 0.11111111)\n",
      " (0.22222222, 0.11111111) (0.33333333, 0.11111111)\n",
      " (0.44444444, 0.11111111) (0.55555556, 0.11111111)\n",
      " (0.66666667, 0.11111111) (0.77777778, 0.11111111)\n",
      " (0.88888889, 0.11111111) (1.        , 0.11111111)\n",
      " (0.        , 0.22222222) (0.11111111, 0.22222222)\n",
      " (0.22222222, 0.22222222) (0.33333333, 0.22222222)\n",
      " (0.44444444, 0.22222222) (0.55555556, 0.22222222)\n",
      " (0.66666667, 0.22222222) (0.77777778, 0.22222222)\n",
      " (0.88888889, 0.22222222) (1.        , 0.22222222)\n",
      " (0.        , 0.33333333) (0.11111111, 0.33333333)\n",
      " (0.22222222, 0.33333333) (0.33333333, 0.33333333)\n",
      " (0.44444444, 0.33333333) (0.55555556, 0.33333333)\n",
      " (0.66666667, 0.33333333) (0.77777778, 0.33333333)\n",
      " (0.88888889, 0.33333333) (1.        , 0.33333333)\n",
      " (0.        , 0.44444444) (0.11111111, 0.44444444)\n",
      " (0.22222222, 0.44444444) (0.33333333, 0.44444444)\n",
      " (0.44444444, 0.44444444) (0.55555556, 0.44444444)\n",
      " (0.66666667, 0.44444444) (0.77777778, 0.44444444)\n",
      " (0.88888889, 0.44444444) (1.        , 0.44444444)\n",
      " (0.        , 0.55555556) (0.11111111, 0.55555556)\n",
      " (0.22222222, 0.55555556) (0.33333333, 0.55555556)\n",
      " (0.44444444, 0.55555556) (0.55555556, 0.55555556)\n",
      " (0.66666667, 0.55555556) (0.77777778, 0.55555556)\n",
      " (0.88888889, 0.55555556) (1.        , 0.55555556)\n",
      " (0.        , 0.66666667) (0.11111111, 0.66666667)\n",
      " (0.22222222, 0.66666667) (0.33333333, 0.66666667)\n",
      " (0.44444444, 0.66666667) (0.55555556, 0.66666667)\n",
      " (0.66666667, 0.66666667) (0.77777778, 0.66666667)\n",
      " (0.88888889, 0.66666667) (1.        , 0.66666667)\n",
      " (0.        , 0.77777778) (0.11111111, 0.77777778)\n",
      " (0.22222222, 0.77777778) (0.33333333, 0.77777778)\n",
      " (0.44444444, 0.77777778) (0.55555556, 0.77777778)\n",
      " (0.66666667, 0.77777778) (0.77777778, 0.77777778)\n",
      " (0.88888889, 0.77777778) (1.        , 0.77777778)\n",
      " (0.        , 0.88888889) (0.11111111, 0.88888889)\n",
      " (0.22222222, 0.88888889) (0.33333333, 0.88888889)\n",
      " (0.44444444, 0.88888889) (0.55555556, 0.88888889)\n",
      " (0.66666667, 0.88888889) (0.77777778, 0.88888889)\n",
      " (0.88888889, 0.88888889) (1.        , 0.88888889)\n",
      " (0.        , 1.        ) (0.11111111, 1.        )\n",
      " (0.22222222, 1.        ) (0.33333333, 1.        )\n",
      " (0.44444444, 1.        ) (0.55555556, 1.        )\n",
      " (0.66666667, 1.        ) (0.77777778, 1.        )\n",
      " (0.88888889, 1.        ) (1.        , 1.        )]\n"
     ]
    }
   ],
   "source": [
    "# Define the number of points along each axis\n",
    "n_points = 10\n",
    "\n",
    "# Create a grid of x and y coordinates\n",
    "x_values = np.linspace(0, 1, n_points)\n",
    "y_values = np.linspace(0, 1, n_points)\n",
    "x_grid, y_grid = np.meshgrid(x_values, y_values)\n",
    "\n",
    "# Create a structured array with x and y coordinates\n",
    "structured_array = np.empty((n_points*n_points,), dtype=[('x', float), ('y', float)])\n",
    "structured_array['x'] = x_grid.flatten()\n",
    "structured_array['y'] = y_grid.flatten()\n",
    "\n",
    "print(\"Structured array:\")\n",
    "print(structured_array)\n"
   ]
  },
  {
   "cell_type": "markdown",
   "metadata": {},
   "source": [
    "# 47."
   ]
  },
  {
   "cell_type": "code",
   "execution_count": 40,
   "metadata": {},
   "outputs": [
    {
     "name": "stdout",
     "output_type": "stream",
     "text": [
      "Cauchy matrix C:\n",
      "[[-0.33333333 -0.25       -0.2       ]\n",
      " [-0.5        -0.33333333 -0.25      ]\n",
      " [-1.         -0.5        -0.33333333]]\n"
     ]
    }
   ],
   "source": [
    "# Example arrays X and Y\n",
    "X = np.array([1, 2, 3])\n",
    "Y = np.array([4, 5, 6])\n",
    "\n",
    "# Construct the Cauchy matrix C\n",
    "C = 1 / (X[:, np.newaxis] - Y)\n",
    "\n",
    "print(\"Cauchy matrix C:\")\n",
    "print(C)\n"
   ]
  },
  {
   "cell_type": "markdown",
   "metadata": {},
   "source": [
    "# 48."
   ]
  },
  {
   "cell_type": "code",
   "execution_count": 41,
   "metadata": {},
   "outputs": [
    {
     "name": "stdout",
     "output_type": "stream",
     "text": [
      "Integer types:\n",
      "int8: Min=-128, Max=127\n",
      "int16: Min=-32768, Max=32767\n",
      "int32: Min=-2147483648, Max=2147483647\n",
      "int64: Min=-9223372036854775808, Max=9223372036854775807\n",
      "\n",
      "Unsigned integer types:\n",
      "uint8: Min=0, Max=255\n",
      "uint16: Min=0, Max=65535\n",
      "uint32: Min=0, Max=4294967295\n",
      "uint64: Min=0, Max=18446744073709551615\n",
      "\n",
      "Floating-point types:\n",
      "float16: Min=-65504.0, Max=65504.0\n",
      "float32: Min=-3.4028234663852886e+38, Max=3.4028234663852886e+38\n",
      "float64: Min=-1.7976931348623157e+308, Max=1.7976931348623157e+308\n"
     ]
    }
   ],
   "source": [
    "# Integer types\n",
    "print(\"Integer types:\")\n",
    "for dtype in [np.int8, np.int16, np.int32, np.int64]:\n",
    "    info = np.iinfo(dtype)\n",
    "    print(f\"{dtype.__name__}: Min={info.min}, Max={info.max}\")\n",
    "\n",
    "# Unsigned integer types\n",
    "print(\"\\nUnsigned integer types:\")\n",
    "for dtype in [np.uint8, np.uint16, np.uint32, np.uint64]:\n",
    "    info = np.iinfo(dtype)\n",
    "    print(f\"{dtype.__name__}: Min={info.min}, Max={info.max}\")\n",
    "\n",
    "# Floating-point types\n",
    "print(\"\\nFloating-point types:\")\n",
    "for dtype in [np.float16, np.float32, np.float64]:\n",
    "    info = np.finfo(dtype)\n",
    "    print(f\"{dtype.__name__}: Min={info.min}, Max={info.max}\")\n"
   ]
  },
  {
   "cell_type": "markdown",
   "metadata": {},
   "source": [
    "# 49."
   ]
  },
  {
   "cell_type": "code",
   "execution_count": 42,
   "metadata": {},
   "outputs": [
    {
     "name": "stdout",
     "output_type": "stream",
     "text": [
      "1\n",
      "2\n",
      "3\n",
      "4\n",
      "5\n"
     ]
    }
   ],
   "source": [
    "# Create a NumPy array\n",
    "arr = np.array([1, 2, 3, 4, 5])\n",
    "\n",
    "# Print all the values of the array using a loop\n",
    "for element in arr:\n",
    "    print(element)\n"
   ]
  },
  {
   "cell_type": "markdown",
   "metadata": {},
   "source": [
    "# 50."
   ]
  },
  {
   "cell_type": "code",
   "execution_count": 43,
   "metadata": {},
   "outputs": [
    {
     "name": "stdout",
     "output_type": "stream",
     "text": [
      "Vector: [1 3 5 7 9]\n",
      "Scalar: 4\n",
      "Closest value: 3\n"
     ]
    }
   ],
   "source": [
    "# Example vector\n",
    "vector = np.array([1, 3, 5, 7, 9])\n",
    "\n",
    "# Given scalar\n",
    "scalar = 4\n",
    "\n",
    "# Find the index of the closest value\n",
    "closest_index = np.abs(vector - scalar).argmin()\n",
    "\n",
    "# Closest value\n",
    "closest_value = vector[closest_index]\n",
    "\n",
    "print(\"Vector:\", vector)\n",
    "print(\"Scalar:\", scalar)\n",
    "print(\"Closest value:\", closest_value)\n"
   ]
  },
  {
   "cell_type": "markdown",
   "metadata": {},
   "source": [
    "# 51."
   ]
  },
  {
   "cell_type": "code",
   "execution_count": 44,
   "metadata": {},
   "outputs": [
    {
     "data": {
      "text/plain": [
       "False"
      ]
     },
     "execution_count": 44,
     "metadata": {},
     "output_type": "execute_result"
    }
   ],
   "source": [
    "# Define the data type for the structured array\n",
    "dtype = [('position', [('x', float), ('y', float)]), ('color', [('r', int), ('g', int), ('b', int)])]\n",
    "\n",
    "# Create a structured array with specified data type\n",
    "structured_array = np.array([((1.0, 2.0), (255, 0, 0)), ((3.0, 4.0), (0, 255, 0)), ((5.0, 6.0), (0, 0, 255))], dtype=dtype)\n",
    "\n",
    "print(structured_array)\n"
   ]
  },
  {
   "cell_type": "markdown",
   "metadata": {},
   "source": [
    "# 52."
   ]
  },
  {
   "cell_type": "code",
   "execution_count": 48,
   "metadata": {},
   "outputs": [
    {
     "name": "stdout",
     "output_type": "stream",
     "text": [
      "[[0.         0.71995752 0.67316182 ... 0.34950283 0.55213982 0.41067231]\n",
      " [0.71995752 0.         0.16528066 ... 0.3714061  0.23523861 0.65459041]\n",
      " [0.67316182 0.16528066 0.         ... 0.33460514 0.31977606 0.70629808]\n",
      " ...\n",
      " [0.34950283 0.3714061  0.33460514 ... 0.         0.24509797 0.42327226]\n",
      " [0.55213982 0.23523861 0.31977606 ... 0.24509797 0.         0.41989734]\n",
      " [0.41067231 0.65459041 0.70629808 ... 0.42327226 0.41989734 0.        ]]\n"
     ]
    }
   ],
   "source": [
    "\n",
    "# Generate random vector with shape (100, 2) representing coordinates\n",
    "coordinates = np.random.rand(100, 2)\n",
    "\n",
    "# Calculate point-by-point distances\n",
    "distances = np.linalg.norm(coordinates[:, np.newaxis] - coordinates, axis=-1)\n",
    "\n",
    "print(distances)\n"
   ]
  },
  {
   "cell_type": "markdown",
   "metadata": {},
   "source": [
    "# 53."
   ]
  },
  {
   "cell_type": "code",
   "execution_count": 49,
   "metadata": {},
   "outputs": [
    {
     "name": "stdout",
     "output_type": "stream",
     "text": [
      "[1 2 3 4]\n"
     ]
    }
   ],
   "source": [
    "# Create a float array\n",
    "float_array = np.array([1.5, 2.7, 3.8, 4.2], dtype=np.float32)\n",
    "\n",
    "# Convert the float array to an integer array in place\n",
    "float_array = float_array.astype(np.int32)\n",
    "\n",
    "print(float_array)\n"
   ]
  },
  {
   "cell_type": "markdown",
   "metadata": {},
   "source": [
    "# 54."
   ]
  },
  {
   "cell_type": "code",
   "execution_count": null,
   "metadata": {},
   "outputs": [],
   "source": []
  },
  {
   "cell_type": "markdown",
   "metadata": {},
   "source": [
    "# 55."
   ]
  },
  {
   "cell_type": "code",
   "execution_count": 52,
   "metadata": {},
   "outputs": [
    {
     "name": "stdout",
     "output_type": "stream",
     "text": [
      "(0, 0) 1\n",
      "(0, 1) 2\n",
      "(0, 2) 3\n",
      "(1, 0) 4\n",
      "(1, 1) 5\n",
      "(1, 2) 6\n"
     ]
    }
   ],
   "source": [
    "# Create a numpy array\n",
    "arr = np.array([[1, 2, 3],\n",
    "                [4, 5, 6]])\n",
    "\n",
    "# Enumerate over the array\n",
    "for index, value in np.ndenumerate(arr):\n",
    "    print(index, value)\n"
   ]
  },
  {
   "cell_type": "markdown",
   "metadata": {},
   "source": [
    "# 56."
   ]
  },
  {
   "cell_type": "code",
   "execution_count": 53,
   "metadata": {},
   "outputs": [
    {
     "name": "stdout",
     "output_type": "stream",
     "text": [
      "[[1.23409804e-04 5.52393447e-04 1.82714617e-03 4.46605415e-03\n",
      "  8.06678714e-03 1.07672086e-02 1.06201727e-02 7.74080184e-03\n",
      "  4.16932970e-03 1.65948162e-03 4.88095244e-04]\n",
      " [5.52393447e-04 2.47256304e-03 8.17847153e-03 1.99904624e-02\n",
      "  3.61076689e-02 4.81949999e-02 4.75368538e-02 3.46485293e-02\n",
      "  1.86622969e-02 7.42798986e-03 2.18475846e-03]\n",
      " [1.82714617e-03 8.17847153e-03 2.70518469e-02 6.61222485e-02\n",
      "  1.19432968e-01 1.59414110e-01 1.57237166e-01 1.14606587e-01\n",
      "  6.17290890e-02 2.45694863e-02 7.22650328e-03]\n",
      " [4.46605415e-03 1.99904624e-02 6.61222485e-02 1.61621192e-01\n",
      "  2.91927440e-01 3.89652485e-01 3.84331430e-01 2.80130420e-01\n",
      "  1.50883087e-01 6.00546679e-02 1.76635868e-02]\n",
      " [8.06678714e-03 3.61076689e-02 1.19432968e-01 2.91927440e-01\n",
      "  5.27292424e-01 7.03807780e-01 6.94196651e-01 5.05984117e-01\n",
      "  2.72531793e-01 1.08473432e-01 3.19047620e-02]\n",
      " [1.07672086e-02 4.81949999e-02 1.59414110e-01 3.89652485e-01\n",
      "  7.03807780e-01 9.39413063e-01 9.26584531e-01 6.75366346e-01\n",
      "  3.63763990e-01 1.44785781e-01 4.25851363e-02]\n",
      " [1.06201727e-02 4.75368538e-02 1.57237166e-01 3.84331430e-01\n",
      "  6.94196651e-01 9.26584531e-01 9.13931185e-01 6.66143611e-01\n",
      "  3.58796465e-01 1.42808601e-01 4.20035979e-02]\n",
      " [7.74080184e-03 3.46485293e-02 1.14606587e-01 2.80130420e-01\n",
      "  5.05984117e-01 6.75366346e-01 6.66143611e-01 4.85536895e-01\n",
      "  2.61518566e-01 1.04089934e-01 3.06154652e-02]\n",
      " [4.16932970e-03 1.86622969e-02 6.17290890e-02 1.50883087e-01\n",
      "  2.72531793e-01 3.63763990e-01 3.58796465e-01 2.61518566e-01\n",
      "  1.40858421e-01 5.60646382e-02 1.64900188e-02]\n",
      " [1.65948162e-03 7.42798986e-03 2.45694863e-02 6.00546679e-02\n",
      "  1.08473432e-01 1.44785781e-01 1.42808601e-01 1.04089934e-01\n",
      "  5.60646382e-02 2.23149148e-02 6.56337714e-03]\n",
      " [4.88095244e-04 2.18475846e-03 7.22650328e-03 1.76635868e-02\n",
      "  3.19047620e-02 4.25851363e-02 4.20035979e-02 3.06154652e-02\n",
      "  1.64900188e-02 6.56337714e-03 1.93045414e-03]]\n"
     ]
    }
   ],
   "source": [
    "def gaussian(x, y, sigma):\n",
    "    return np.exp(-(x**2 + y**2) / (2 * sigma**2))\n",
    "\n",
    "# Define the parameters\n",
    "size = 11  # Size of the array\n",
    "sigma = 2  # Standard deviation of the Gaussian\n",
    "\n",
    "# Generate the coordinates\n",
    "x = np.linspace(-size // 2, size // 2, size)\n",
    "y = np.linspace(-size // 2, size // 2, size)\n",
    "\n",
    "# Create a meshgrid of the coordinates\n",
    "X, Y = np.meshgrid(x, y)\n",
    "\n",
    "# Calculate the Gaussian values\n",
    "gaussian_array = gaussian(X, Y, sigma)\n",
    "\n",
    "print(gaussian_array)\n"
   ]
  },
  {
   "cell_type": "markdown",
   "metadata": {},
   "source": [
    "# 57."
   ]
  },
  {
   "cell_type": "code",
   "execution_count": 54,
   "metadata": {},
   "outputs": [
    {
     "name": "stdout",
     "output_type": "stream",
     "text": [
      "[[0. 0. 0. 1. 0.]\n",
      " [0. 0. 0. 0. 0.]\n",
      " [1. 0. 0. 0. 1.]\n",
      " [0. 1. 0. 0. 0.]\n",
      " [1. 0. 0. 0. 0.]]\n"
     ]
    }
   ],
   "source": [
    "\n",
    "def randomly_place_elements(array, p, value):\n",
    "    # Get the size of the array\n",
    "    rows, cols = array.shape\n",
    "    \n",
    "    # Calculate the total number of elements\n",
    "    total_elements = rows * cols\n",
    "    \n",
    "    # Calculate the number of elements to place\n",
    "    num_elements_to_place = int(total_elements * p)\n",
    "    \n",
    "    # Generate random indices\n",
    "    indices = np.random.choice(total_elements, num_elements_to_place, replace=False)\n",
    "    \n",
    "    # Reshape the indices to match the array shape\n",
    "    row_indices = indices // cols\n",
    "    col_indices = indices % cols\n",
    "    \n",
    "    # Assign the value to the random indices\n",
    "    array[row_indices, col_indices] = value\n",
    "    \n",
    "    return array\n",
    "\n",
    "# Example usage\n",
    "rows, cols = 5, 5  # Size of the 2D array\n",
    "p = 0.2  # Probability of placing elements\n",
    "value = 1  # Value to place\n",
    "\n",
    "# Create a 2D array\n",
    "array = np.zeros((rows, cols))\n",
    "\n",
    "# Randomly place elements\n",
    "array = randomly_place_elements(array, p, value)\n",
    "\n",
    "print(array)\n"
   ]
  },
  {
   "cell_type": "markdown",
   "metadata": {},
   "source": [
    "# 58."
   ]
  },
  {
   "cell_type": "code",
   "execution_count": 55,
   "metadata": {},
   "outputs": [
    {
     "name": "stdout",
     "output_type": "stream",
     "text": [
      "[[-1.  0.  1.]\n",
      " [-1.  0.  1.]\n",
      " [-1.  0.  1.]]\n"
     ]
    }
   ],
   "source": [
    "# Example matrix\n",
    "matrix = np.array([[1, 2, 3],\n",
    "                   [4, 5, 6],\n",
    "                   [7, 8, 9]])\n",
    "\n",
    "# Calculate the mean of each row\n",
    "row_means = np.mean(matrix, axis=1, keepdims=True)\n",
    "\n",
    "# Subtract the mean of each row from the original matrix\n",
    "matrix_normalized = matrix - row_means\n",
    "\n",
    "print(matrix_normalized)\n"
   ]
  },
  {
   "cell_type": "markdown",
   "metadata": {},
   "source": [
    "# 59."
   ]
  },
  {
   "cell_type": "code",
   "execution_count": 56,
   "metadata": {},
   "outputs": [
    {
     "name": "stdout",
     "output_type": "stream",
     "text": [
      "Original array:\n",
      "[[1 4 3]\n",
      " [6 2 8]\n",
      " [5 7 9]]\n",
      "\n",
      "Sorted array by the nth column:\n",
      "[[6 2 8]\n",
      " [1 4 3]\n",
      " [5 7 9]]\n"
     ]
    }
   ],
   "source": [
    "\n",
    "# Example array\n",
    "array = np.array([[1, 4, 3],\n",
    "                  [6, 2, 8],\n",
    "                  [5, 7, 9]])\n",
    "\n",
    "# Sort the array by the nth column (n=1 in this example)\n",
    "n = 1\n",
    "sorted_indices = np.argsort(array[:, n])\n",
    "\n",
    "# Use the sorted indices to rearrange the rows of the array\n",
    "sorted_array = array[sorted_indices]\n",
    "\n",
    "print(\"Original array:\")\n",
    "print(array)\n",
    "print(\"\\nSorted array by the nth column:\")\n",
    "print(sorted_array)\n"
   ]
  },
  {
   "cell_type": "markdown",
   "metadata": {},
   "source": [
    "# 60."
   ]
  },
  {
   "cell_type": "code",
   "execution_count": 57,
   "metadata": {},
   "outputs": [
    {
     "name": "stdout",
     "output_type": "stream",
     "text": [
      "Columns with null values: [False  True False]\n"
     ]
    }
   ],
   "source": [
    "# Example 2D array\n",
    "array = np.array([[1, 0, 3],\n",
    "                  [0, 0, 0],\n",
    "                  [4, 0, 6]])\n",
    "\n",
    "# Check if any column contains only null values\n",
    "null_columns = np.all(array == array[0, :], axis=0)\n",
    "\n",
    "print(\"Columns with null values:\", null_columns)\n"
   ]
  },
  {
   "cell_type": "markdown",
   "metadata": {},
   "source": [
    "# 61."
   ]
  },
  {
   "cell_type": "code",
   "execution_count": 60,
   "metadata": {},
   "outputs": [
    {
     "name": "stdout",
     "output_type": "stream",
     "text": [
      "Nearest value: 5\n"
     ]
    }
   ],
   "source": [
    "# Example array\n",
    "array = np.array([1, 3, 5, 7, 9])\n",
    "\n",
    "# Given value\n",
    "given_value = 6\n",
    "\n",
    "# Find the index of the nearest value\n",
    "nearest_index = np.abs(array - given_value).argmin()\n",
    "\n",
    "# Nearest value\n",
    "nearest_value = array[nearest_index]\n",
    "\n",
    "print(\"Nearest value:\", nearest_value)\n"
   ]
  },
  {
   "cell_type": "markdown",
   "metadata": {},
   "source": [
    "# 62."
   ]
  },
  {
   "cell_type": "code",
   "execution_count": 61,
   "metadata": {},
   "outputs": [
    {
     "name": "stdout",
     "output_type": "stream",
     "text": [
      "Sum of the arrays: 21\n"
     ]
    }
   ],
   "source": [
    "# Define the arrays\n",
    "array1 = np.array([[1, 2, 3]])\n",
    "array2 = np.array([[4], [5], [6]])\n",
    "\n",
    "# Initialize the sum\n",
    "total_sum = 0\n",
    "\n",
    "# Iterate over the elements and compute the sum\n",
    "iterator1 = np.nditer(array1)\n",
    "iterator2 = np.nditer(array2)\n",
    "\n",
    "for x, y in zip(iterator1, iterator2):\n",
    "    total_sum += (x + y)\n",
    "\n",
    "print(\"Sum of the arrays:\", total_sum)\n"
   ]
  },
  {
   "cell_type": "markdown",
   "metadata": {},
   "source": [
    "# 63."
   ]
  },
  {
   "cell_type": "code",
   "execution_count": 62,
   "metadata": {},
   "outputs": [
    {
     "name": "stdout",
     "output_type": "stream",
     "text": [
      "Name of the array: My Array\n",
      "Array:\n",
      "[[1 2 3]\n",
      " [4 5 6]]\n"
     ]
    }
   ],
   "source": [
    "class NamedArray(np.ndarray):\n",
    "    def __new__(cls, input_array, name=None):\n",
    "        obj = np.asarray(input_array).view(cls)\n",
    "        obj.name = name\n",
    "        return obj\n",
    "\n",
    "    def __array_finalize__(self, obj):\n",
    "        if obj is None:\n",
    "            return\n",
    "        self.name = getattr(obj, 'name', None)\n",
    "\n",
    "# Example usage:\n",
    "array_data = np.array([[1, 2, 3], [4, 5, 6]])\n",
    "my_array = NamedArray(array_data, name=\"My Array\")\n",
    "\n",
    "print(\"Name of the array:\", my_array.name)\n",
    "print(\"Array:\")\n",
    "print(my_array)\n"
   ]
  },
  {
   "cell_type": "markdown",
   "metadata": {},
   "source": [
    "# 64."
   ]
  },
  {
   "cell_type": "code",
   "execution_count": 63,
   "metadata": {},
   "outputs": [
    {
     "name": "stdout",
     "output_type": "stream",
     "text": [
      "Modified vector1: [2 3 3 5 6]\n"
     ]
    }
   ],
   "source": [
    "# Given vectors\n",
    "vector1 = np.array([1, 2, 3, 4, 5])\n",
    "indices = np.array([0, 1, 3, 3, 4, 4])  # Example indices (with repetitions)\n",
    "\n",
    "# Create a mask to handle repeated indices\n",
    "unique_indices, unique_indices_counts = np.unique(indices, return_counts=True)\n",
    "mask = np.zeros_like(vector1, dtype=bool)\n",
    "mask[unique_indices] = True\n",
    "\n",
    "# Add 1 to elements indexed by unique indices\n",
    "vector1[mask] += 1\n",
    "\n",
    "print(\"Modified vector1:\", vector1)\n"
   ]
  },
  {
   "cell_type": "markdown",
   "metadata": {},
   "source": [
    "# 65."
   ]
  },
  {
   "cell_type": "code",
   "execution_count": 65,
   "metadata": {},
   "outputs": [
    {
     "ename": "ValueError",
     "evalue": "array is not broadcastable to correct shape",
     "output_type": "error",
     "traceback": [
      "\u001b[1;31m---------------------------------------------------------------------------\u001b[0m",
      "\u001b[1;31mValueError\u001b[0m                                Traceback (most recent call last)",
      "Cell \u001b[1;32mIn[65], line 9\u001b[0m\n\u001b[0;32m      6\u001b[0m F \u001b[38;5;241m=\u001b[39m np\u001b[38;5;241m.\u001b[39mzeros(\u001b[38;5;241m3\u001b[39m)  \u001b[38;5;66;03m# Initialize array F with zeros\u001b[39;00m\n\u001b[0;32m      8\u001b[0m \u001b[38;5;66;03m# Accumulate elements of X into F based on the index list I\u001b[39;00m\n\u001b[1;32m----> 9\u001b[0m \u001b[43mnp\u001b[49m\u001b[38;5;241;43m.\u001b[39;49m\u001b[43madd\u001b[49m\u001b[38;5;241;43m.\u001b[39;49m\u001b[43mat\u001b[49m\u001b[43m(\u001b[49m\u001b[43mF\u001b[49m\u001b[43m,\u001b[49m\u001b[43m \u001b[49m\u001b[43mI\u001b[49m\u001b[43m,\u001b[49m\u001b[43m \u001b[49m\u001b[43mX\u001b[49m\u001b[43m)\u001b[49m\n\u001b[0;32m     11\u001b[0m \u001b[38;5;28mprint\u001b[39m(\u001b[38;5;124m\"\u001b[39m\u001b[38;5;124mAccumulated array F:\u001b[39m\u001b[38;5;124m\"\u001b[39m, F)\n",
      "\u001b[1;31mValueError\u001b[0m: array is not broadcastable to correct shape"
     ]
    }
   ],
   "source": [
    "import numpy as np\n",
    "\n",
    "# Given vector X, index list I, and array F\n",
    "X = np.array([1, 2, 3, 4, 5])\n",
    "I = np.array([0, 1, 2, 0, 1, 2])  # Example index list\n",
    "F = np.zeros(3)  # Initialize array F with zeros\n",
    "\n",
    "# Accumulate elements of X into F based on the index list I\n",
    "np.add.at(F, I, X)\n",
    "\n",
    "print(\"Accumulated array F:\", F)\n"
   ]
  },
  {
   "cell_type": "markdown",
   "metadata": {},
   "source": [
    "# 66."
   ]
  },
  {
   "cell_type": "code",
   "execution_count": 66,
   "metadata": {},
   "outputs": [
    {
     "name": "stdout",
     "output_type": "stream",
     "text": [
      "Number of unique colors: 100\n"
     ]
    }
   ],
   "source": [
    "# Example image array\n",
    "image = np.random.randint(0, 256, size=(10, 10, 3), dtype=np.uint8)  # Example image (ubyte)\n",
    "\n",
    "# Reshape the image into a 2D array (pixels, color channels)\n",
    "pixels = image.reshape(-1, 3)\n",
    "\n",
    "# Find unique colors\n",
    "unique_colors = np.unique(pixels, axis=0)\n",
    "\n",
    "# Number of unique colors\n",
    "num_unique_colors = len(unique_colors)\n",
    "\n",
    "print(\"Number of unique colors:\", num_unique_colors)\n"
   ]
  },
  {
   "cell_type": "markdown",
   "metadata": {},
   "source": [
    "# 67."
   ]
  },
  {
   "cell_type": "code",
   "execution_count": 67,
   "metadata": {},
   "outputs": [
    {
     "name": "stdout",
     "output_type": "stream",
     "text": [
      "Sum over the last two axes:\n",
      "[[ 86  82  67]\n",
      " [100  62  71]]\n"
     ]
    }
   ],
   "source": [
    "# Example four-dimensional array\n",
    "array_4d = np.random.randint(0, 10, size=(2, 3, 4, 5))\n",
    "\n",
    "# Get the sum over the last two axes at once\n",
    "sum_last_two_axes = np.sum(array_4d, axis=(-2, -1))\n",
    "\n",
    "print(\"Sum over the last two axes:\")\n",
    "print(sum_last_two_axes)\n"
   ]
  },
  {
   "cell_type": "markdown",
   "metadata": {},
   "source": [
    "# 68."
   ]
  },
  {
   "cell_type": "code",
   "execution_count": 68,
   "metadata": {},
   "outputs": [
    {
     "name": "stdout",
     "output_type": "stream",
     "text": [
      "Subset indices: [0 1 2 3]\n",
      "Subset means: [1.5 4.  7.  9.5]\n"
     ]
    }
   ],
   "source": [
    "# Example one-dimensional vector D and subset indices vector S\n",
    "D = np.array([1, 2, 3, 4, 5, 6, 7, 8, 9, 10])  # Example vector\n",
    "S = np.array([0, 0, 1, 1, 1, 2, 2, 2, 3, 3])   # Example subset indices vector\n",
    "\n",
    "# Find unique subset indices\n",
    "unique_indices = np.unique(S)\n",
    "\n",
    "# Compute means of subsets of D using subset indices\n",
    "subset_means = np.array([np.mean(D[S == idx]) for idx in unique_indices])\n",
    "\n",
    "print(\"Subset indices:\", unique_indices)\n",
    "print(\"Subset means:\", subset_means)\n"
   ]
  },
  {
   "cell_type": "markdown",
   "metadata": {},
   "source": [
    "# 69."
   ]
  },
  {
   "cell_type": "code",
   "execution_count": 69,
   "metadata": {},
   "outputs": [
    {
     "name": "stdout",
     "output_type": "stream",
     "text": [
      "Diagonal of the dot product:\n",
      "[30 69 90]\n"
     ]
    }
   ],
   "source": [
    "# Example matrices A and B\n",
    "A = np.array([[1, 2, 3],\n",
    "              [4, 5, 6],\n",
    "              [7, 8, 9]])\n",
    "\n",
    "B = np.array([[9, 8, 7],\n",
    "              [6, 5, 4],\n",
    "              [3, 2, 1]])\n",
    "\n",
    "# Compute the dot product of A and B\n",
    "dot_product = np.dot(A, B)\n",
    "\n",
    "# Get the diagonal elements of the dot product\n",
    "diagonal_elements = np.einsum('ii->i', dot_product)\n",
    "\n",
    "print(\"Diagonal of the dot product:\")\n",
    "print(diagonal_elements)\n"
   ]
  },
  {
   "cell_type": "markdown",
   "metadata": {},
   "source": [
    "# 70."
   ]
  },
  {
   "cell_type": "code",
   "execution_count": 70,
   "metadata": {},
   "outputs": [
    {
     "name": "stdout",
     "output_type": "stream",
     "text": [
      "New vector with zeros interleaved:\n",
      "[1 0 0 0 2 0 0 0 3 0 0 0 4 0 0 0 5]\n"
     ]
    }
   ],
   "source": [
    "# Initial vector\n",
    "initial_vector = np.array([1, 2, 3, 4, 5])\n",
    "\n",
    "# Number of consecutive zeros to insert between each value\n",
    "num_zeros = 3\n",
    "\n",
    "# Initialize the new vector with zeros\n",
    "new_vector_length = len(initial_vector) + (len(initial_vector) - 1) * num_zeros\n",
    "new_vector = np.zeros(new_vector_length, dtype=initial_vector.dtype)\n",
    "\n",
    "# Insert values from the initial vector and zeros at the desired intervals\n",
    "new_vector[::num_zeros + 1] = initial_vector\n",
    "\n",
    "print(\"New vector with zeros interleaved:\")\n",
    "print(new_vector)\n"
   ]
  },
  {
   "cell_type": "markdown",
   "metadata": {},
   "source": [
    "# 71."
   ]
  },
  {
   "cell_type": "code",
   "execution_count": 71,
   "metadata": {},
   "outputs": [
    {
     "name": "stdout",
     "output_type": "stream",
     "text": [
      "Resulting shape: (5, 5, 3)\n"
     ]
    }
   ],
   "source": [
    "import numpy as np\n",
    "\n",
    "# Create a 3D array of dimension (5, 5, 3)\n",
    "array_3d = np.random.randint(1, 10, size=(5, 5, 3))\n",
    "\n",
    "# Create a 2D array with dimensions (5, 5)\n",
    "array_2d = np.random.randint(1, 10, size=(5, 5))\n",
    "\n",
    "# Multiply the 3D array by the 2D array\n",
    "result = array_3d * array_2d[:, :, np.newaxis]\n",
    "\n",
    "print(\"Resulting shape:\", result.shape)\n"
   ]
  },
  {
   "cell_type": "markdown",
   "metadata": {},
   "source": [
    "# 72."
   ]
  },
  {
   "cell_type": "code",
   "execution_count": 72,
   "metadata": {},
   "outputs": [
    {
     "name": "stdout",
     "output_type": "stream",
     "text": [
      "Array after swapping rows:\n",
      "[[7 8 9]\n",
      " [4 5 6]\n",
      " [1 2 3]]\n"
     ]
    }
   ],
   "source": [
    "# Create a sample 2D array\n",
    "array = np.array([[1, 2, 3],\n",
    "                  [4, 5, 6],\n",
    "                  [7, 8, 9]])\n",
    "\n",
    "# Define the indices of the rows you want to swap\n",
    "row_index1 = 0\n",
    "row_index2 = 2\n",
    "\n",
    "# Swap the rows\n",
    "array[[row_index1, row_index2]] = array[[row_index2, row_index1]]\n",
    "\n",
    "print(\"Array after swapping rows:\")\n",
    "print(array)\n"
   ]
  },
  {
   "cell_type": "markdown",
   "metadata": {},
   "source": [
    "# 73."
   ]
  },
  {
   "cell_type": "code",
   "execution_count": 73,
   "metadata": {},
   "outputs": [
    {
     "name": "stdout",
     "output_type": "stream",
     "text": [
      "Unique line segments:\n",
      "((1, 1), (2, 1))\n",
      "((1, 0), (1, 1))\n",
      "((0, 1), (1, 1))\n",
      "((0, 0), (0, 1))\n",
      "((0, 1), (1, 0))\n",
      "((1, 2), (2, 1))\n",
      "((0, 0), (1, 0))\n",
      "((1, 1), (1, 2))\n"
     ]
    }
   ],
   "source": [
    "# Example set of 10 triplets describing 10 triangles\n",
    "triplets = [\n",
    "    [(0, 0), (1, 0), (0, 1)],  # Triangle 1\n",
    "    [(1, 0), (1, 1), (0, 1)],  # Triangle 2\n",
    "    [(1, 1), (2, 1), (1, 2)],  # Triangle 3\n",
    "    # Add more triangles here...\n",
    "]\n",
    "\n",
    "# Function to get line segments from a triangle\n",
    "def get_line_segments(triangle):\n",
    "    segments = set()\n",
    "    for i in range(3):\n",
    "        for j in range(i + 1, 3):\n",
    "            segment = (triangle[i], triangle[j])\n",
    "            segments.add(tuple(sorted(segment)))  # Ensure consistent ordering\n",
    "    return segments\n",
    "\n",
    "# Find unique line segments from all triangles\n",
    "unique_segments = set()\n",
    "for triangle in triplets:\n",
    "    segments = get_line_segments(triangle)\n",
    "    unique_segments.update(segments)\n",
    "\n",
    "print(\"Unique line segments:\")\n",
    "for segment in unique_segments:\n",
    "    print(segment)\n"
   ]
  },
  {
   "cell_type": "markdown",
   "metadata": {},
   "source": [
    "# 74."
   ]
  },
  {
   "cell_type": "code",
   "execution_count": 74,
   "metadata": {},
   "outputs": [
    {
     "name": "stdout",
     "output_type": "stream",
     "text": [
      "Reconstructed array A: [1 2 3 3 3 5 5 7 9]\n",
      "Bincount of A: [0 1 1 3 0 2 0 1 0 1]\n",
      "Original bincount array C: [0 1 1 3 0 2 0 1 0 1]\n"
     ]
    }
   ],
   "source": [
    "\n",
    "def reconstruct_array(bincount_array):\n",
    "    indices = np.arange(len(bincount_array))  # Generate indices\n",
    "    return np.repeat(indices, bincount_array)  # Repeat indices based on bincount\n",
    "\n",
    "# Example sorted array representing bincount\n",
    "C = np.array([0, 1, 1, 3, 0, 2, 0, 1, 0, 1])\n",
    "\n",
    "# Reconstruct the original array\n",
    "A = reconstruct_array(C)\n",
    "\n",
    "print(\"Reconstructed array A:\", A)\n",
    "print(\"Bincount of A:\", np.bincount(A))\n",
    "print(\"Original bincount array C:\", C)\n"
   ]
  },
  {
   "cell_type": "markdown",
   "metadata": {},
   "source": [
    "# 75."
   ]
  },
  {
   "cell_type": "code",
   "execution_count": 75,
   "metadata": {},
   "outputs": [
    {
     "name": "stdout",
     "output_type": "stream",
     "text": [
      "Input array: [ 1  2  3  4  5  6  7  8  9 10]\n",
      "Sliding window averages with window size 3 : [1.33333333 2.         3.         4.         5.         6.\n",
      " 7.         8.         9.         9.66666667]\n"
     ]
    }
   ],
   "source": [
    "def sliding_window_average(array, window_size):\n",
    "    # Pad the array to handle edge cases\n",
    "    padded_array = np.pad(array, (window_size//2, window_size//2), mode='edge')\n",
    "    \n",
    "    # Compute the rolling sum using a 1D convolution\n",
    "    window = np.ones(window_size) / window_size\n",
    "    rolling_sum = np.convolve(padded_array, window, mode='valid')\n",
    "    \n",
    "    # Compute the number of elements in each window\n",
    "    counts = np.convolve(np.ones_like(padded_array), window, mode='valid')\n",
    "    \n",
    "    # Compute the average\n",
    "    averages = rolling_sum / counts\n",
    "    \n",
    "    return averages\n",
    "\n",
    "# Example input array\n",
    "input_array = np.array([1, 2, 3, 4, 5, 6, 7, 8, 9, 10])\n",
    "\n",
    "# Window size\n",
    "window_size = 3\n",
    "\n",
    "# Compute sliding window averages\n",
    "result = sliding_window_average(input_array, window_size)\n",
    "\n",
    "print(\"Input array:\", input_array)\n",
    "print(\"Sliding window averages with window size\", window_size, \":\", result)\n"
   ]
  },
  {
   "cell_type": "markdown",
   "metadata": {},
   "source": [
    "# 76."
   ]
  },
  {
   "cell_type": "code",
   "execution_count": 76,
   "metadata": {},
   "outputs": [
    {
     "name": "stdout",
     "output_type": "stream",
     "text": [
      "Two-dimensional array:\n",
      "[[1 2 3]\n",
      " [2 3 4]\n",
      " [3 4 5]\n",
      " [4 5 6]\n",
      " [5 6 7]]\n"
     ]
    }
   ],
   "source": [
    "# Example one-dimensional array Z\n",
    "Z = np.array([1, 2, 3, 4, 5, 6, 7])\n",
    "\n",
    "# Number of elements in each row\n",
    "num_elements = 3\n",
    "\n",
    "# Create the two-dimensional array\n",
    "num_rows = len(Z) - num_elements + 1\n",
    "result = np.empty((num_rows, num_elements), dtype=Z.dtype)\n",
    "\n",
    "# Fill in the array row by row\n",
    "for i in range(num_rows):\n",
    "    result[i] = Z[i:i+num_elements]\n",
    "\n",
    "print(\"Two-dimensional array:\")\n",
    "print(result)\n"
   ]
  },
  {
   "cell_type": "markdown",
   "metadata": {},
   "source": [
    "# 77."
   ]
  },
  {
   "cell_type": "code",
   "execution_count": 77,
   "metadata": {},
   "outputs": [
    {
     "name": "stdout",
     "output_type": "stream",
     "text": [
      "Negated boolean: -2\n",
      "Float with changed sign: -3.5\n"
     ]
    },
    {
     "name": "stderr",
     "output_type": "stream",
     "text": [
      "C:\\Users\\My Pc\\AppData\\Local\\Temp\\ipykernel_1428\\529350697.py:3: DeprecationWarning: Bitwise inversion '~' on bool is deprecated. This returns the bitwise inversion of the underlying int object and is usually not what you expect from negating a bool. Use the 'not' operator for boolean negation or ~int(x) if you really want the bitwise inversion of the underlying int.\n",
      "  boolean_var = ~boolean_var  # Negate the boolean\n"
     ]
    }
   ],
   "source": [
    "# Negate a boolean\n",
    "boolean_var = True\n",
    "boolean_var = ~boolean_var  # Negate the boolean\n",
    "print(\"Negated boolean:\", boolean_var)\n",
    "\n",
    "# Change the sign of a float\n",
    "float_var = 3.5\n",
    "float_var = -float_var  # Change the sign of the float\n",
    "print(\"Float with changed sign:\", float_var)\n"
   ]
  },
  {
   "cell_type": "markdown",
   "metadata": {},
   "source": [
    "# 78."
   ]
  },
  {
   "cell_type": "code",
   "execution_count": 79,
   "metadata": {},
   "outputs": [
    {
     "name": "stdout",
     "output_type": "stream",
     "text": [
      "Distances to each line segment: [0.9999999999999999, 1.4142135623730951, 1.0]\n"
     ]
    }
   ],
   "source": [
    "def distance_point_to_line_segment(P0, P1, p):\n",
    "    # Compute direction vectors\n",
    "    v = P1 - P0\n",
    "    \n",
    "    # Compute vectors from P0 to p\n",
    "    w = p - P0\n",
    "    \n",
    "    # Compute dot products\n",
    "    c1 = np.dot(w, v)\n",
    "    c2 = np.dot(v, v)\n",
    "    \n",
    "    # Compute projection parameter\n",
    "    b = c1 / c2\n",
    "    \n",
    "    # Clamp parameter b to [0, 1]\n",
    "    b = np.clip(b, 0, 1)\n",
    "    \n",
    "    # Compute projected point\n",
    "    Pb = P0 + b * v\n",
    "    \n",
    "    # Compute distance\n",
    "    distance = np.linalg.norm(p - Pb)\n",
    "    \n",
    "    return distance\n",
    "\n",
    "# Example points\n",
    "P0 = np.array([[1, 1], [2, 3], [4, 2]])  # Starting points of line segments\n",
    "P1 = np.array([[4, 5], [5, 7], [7, 6]])  # Ending points of line segments\n",
    "p = np.array([3, 2])  # Point to compute distance to\n",
    "\n",
    "# Compute distances from p to each line segment\n",
    "distances = [distance_point_to_line_segment(p0, p1, p) for p0, p1 in zip(P0, P1)]\n",
    "\n",
    "print(\"Distances to each line segment:\", distances)\n"
   ]
  },
  {
   "cell_type": "markdown",
   "metadata": {},
   "source": [
    "# 79."
   ]
  },
  {
   "cell_type": "code",
   "execution_count": 81,
   "metadata": {},
   "outputs": [
    {
     "name": "stdout",
     "output_type": "stream",
     "text": [
      "Distances from each point to each line segment:\n",
      "[[1.         1.41421356 1.        ]\n",
      " [2.23606798 2.6        0.4       ]\n",
      " [1.6        1.2        3.4       ]\n",
      " [4.47213595 3.         1.41421356]]\n"
     ]
    }
   ],
   "source": [
    "def distance_point_to_line_segment(P0, P1, p):\n",
    "    # Compute direction vectors\n",
    "    v = P1 - P0\n",
    "    \n",
    "    # Compute vectors from P0 to p\n",
    "    w = p - P0\n",
    "    \n",
    "    # Compute dot products\n",
    "    c1 = np.dot(w, v)\n",
    "    c2 = np.dot(v, v)\n",
    "    \n",
    "    # Compute projection parameter\n",
    "    b = c1 / c2\n",
    "    \n",
    "    # Clamp parameter b to [0, 1]\n",
    "    b = np.clip(b, 0, 1)\n",
    "    \n",
    "    # Compute projected point\n",
    "    Pb = P0 + b * v\n",
    "    \n",
    "    # Compute distance\n",
    "    distance = np.linalg.norm(p - Pb)\n",
    "    \n",
    "    return distance\n",
    "\n",
    "def distance_points_to_lines(P0, P1, P):\n",
    "    distances = []\n",
    "    for p in P:\n",
    "        # Compute distances from p to each line segment\n",
    "        distances.append([distance_point_to_line_segment(p0, p1, p) for p0, p1 in zip(P0, P1)])\n",
    "    return np.array(distances)\n",
    "\n",
    "# Example points\n",
    "P0 = np.array([[1, 1], [2, 3], [4, 2]])  # Starting points of line segments\n",
    "P1 = np.array([[4, 5], [5, 7], [7, 6]])  # Ending points of line segments\n",
    "P = np.array([[3, 2], [6, 4], [2, 5], [8, 7]])  # Points to compute distance to\n",
    "\n",
    "# Compute distances from each point to each line segment\n",
    "distances = distance_points_to_lines(P0, P1, P)\n",
    "\n",
    "print(\"Distances from each point to each line segment:\")\n",
    "print(distances)\n"
   ]
  },
  {
   "cell_type": "markdown",
   "metadata": {},
   "source": [
    "# 80."
   ]
  },
  {
   "cell_type": "code",
   "execution_count": 84,
   "metadata": {},
   "outputs": [
    {
     "name": "stdout",
     "output_type": "stream",
     "text": [
      "Original array:\n",
      "[[ 1  2  3  4]\n",
      " [ 5  6  7  8]\n",
      " [ 9 10 11 12]]\n",
      "Subpart centered at (1, 2) with shape (3, 3) :\n",
      "[[ 2  3  4]\n",
      " [ 6  7  8]\n",
      " [10 11 12]]\n"
     ]
    }
   ],
   "source": [
    "import numpy as np\n",
    "\n",
    "def extract_subpart(array, center, shape, fill_value=0):\n",
    "    # Convert tuples to NumPy arrays\n",
    "    center = np.array(center)\n",
    "    shape = np.array(shape)\n",
    "    \n",
    "    # Determine the indices for the subpart\n",
    "    half_shape = shape // 2\n",
    "    start_index = center - half_shape\n",
    "    end_index = start_index + shape\n",
    "    \n",
    "    # Pad the indices to handle edge cases\n",
    "    start_index = np.maximum(start_index, 0)\n",
    "    end_index = np.minimum(end_index, np.array(array.shape))\n",
    "    \n",
    "    # Extract the subpart from the original array\n",
    "    subpart = array[start_index[0]:end_index[0], start_index[1]:end_index[1]]\n",
    "    \n",
    "    # Pad the subpart if necessary\n",
    "    padded_subpart = np.full(shape, fill_value, dtype=array.dtype)\n",
    "    pad_start = half_shape - (center - start_index)\n",
    "    pad_end = shape - subpart.shape - pad_start\n",
    "    padded_subpart[pad_start[0]:pad_start[0]+subpart.shape[0], \n",
    "                   pad_start[1]:pad_start[1]+subpart.shape[1]] = subpart\n",
    "    \n",
    "    return padded_subpart\n",
    "\n",
    "# Example array\n",
    "array = np.array([[1, 2, 3, 4],\n",
    "                  [5, 6, 7, 8],\n",
    "                  [9, 10, 11, 12]])\n",
    "\n",
    "# Example center and shape\n",
    "center = (1, 2)\n",
    "shape = (3, 3)\n",
    "\n",
    "# Extract subpart\n",
    "subpart = extract_subpart(array, center, shape, fill_value=0)\n",
    "\n",
    "print(\"Original array:\")\n",
    "print(array)\n",
    "print(\"Subpart centered at\", center, \"with shape\", shape, \":\")\n",
    "print(subpart)\n"
   ]
  },
  {
   "cell_type": "markdown",
   "metadata": {},
   "source": [
    "# 81."
   ]
  },
  {
   "cell_type": "code",
   "execution_count": 85,
   "metadata": {},
   "outputs": [
    {
     "name": "stdout",
     "output_type": "stream",
     "text": [
      "Array R:\n",
      "[[ 1  2  3  4]\n",
      " [ 2  3  4  5]\n",
      " [ 3  4  5  6]\n",
      " [ 4  5  6  7]\n",
      " [ 5  6  7  8]\n",
      " [ 6  7  8  9]\n",
      " [ 7  8  9 10]\n",
      " [ 8  9 10 11]\n",
      " [ 9 10 11 12]\n",
      " [10 11 12 13]\n",
      " [11 12 13 14]]\n"
     ]
    }
   ],
   "source": [
    "# Define the array Z\n",
    "Z = np.array([1, 2, 3, 4, 5, 6, 7, 8, 9, 10, 11, 12, 13, 14])\n",
    "\n",
    "# Define the length of each subarray\n",
    "subarray_length = 4\n",
    "\n",
    "# Calculate the number of subarrays\n",
    "num_subarrays = len(Z) - subarray_length + 1\n",
    "\n",
    "# Generate the array R\n",
    "R = np.array([Z[i:i+subarray_length] for i in range(num_subarrays)])\n",
    "\n",
    "print(\"Array R:\")\n",
    "print(R)\n"
   ]
  },
  {
   "cell_type": "markdown",
   "metadata": {},
   "source": [
    "# 82."
   ]
  },
  {
   "cell_type": "code",
   "execution_count": 86,
   "metadata": {},
   "outputs": [
    {
     "name": "stdout",
     "output_type": "stream",
     "text": [
      "Rank of the matrix: 2\n"
     ]
    }
   ],
   "source": [
    "import numpy as np\n",
    "\n",
    "# Example matrix\n",
    "matrix = np.array([[1, 2, 3],\n",
    "                   [4, 5, 6],\n",
    "                   [7, 8, 9]])\n",
    "\n",
    "# Compute the rank of the matrix\n",
    "rank = np.linalg.matrix_rank(matrix)\n",
    "\n",
    "print(\"Rank of the matrix:\", rank)\n"
   ]
  },
  {
   "cell_type": "markdown",
   "metadata": {},
   "source": [
    "# 83."
   ]
  },
  {
   "cell_type": "code",
   "execution_count": 87,
   "metadata": {},
   "outputs": [
    {
     "name": "stdout",
     "output_type": "stream",
     "text": [
      "Most frequent value in the array: 3\n"
     ]
    }
   ],
   "source": [
    "# Example array\n",
    "arr = np.array([1, 2, 3, 2, 2, 1, 3, 3, 3])\n",
    "\n",
    "# Find the most frequent value\n",
    "most_frequent_value = np.argmax(np.bincount(arr))\n",
    "\n",
    "print(\"Most frequent value in the array:\", most_frequent_value)\n"
   ]
  },
  {
   "cell_type": "markdown",
   "metadata": {},
   "source": [
    "# 84."
   ]
  },
  {
   "cell_type": "code",
   "execution_count": 88,
   "metadata": {},
   "outputs": [
    {
     "name": "stdout",
     "output_type": "stream",
     "text": [
      "Contiguous 3x3 blocks extracted from the matrix:\n",
      "[[[3 1 4]\n",
      "  [0 1 1]\n",
      "  [2 2 0]]\n",
      "\n",
      " [[1 4 6]\n",
      "  [1 1 0]\n",
      "  [2 0 7]]\n",
      "\n",
      " [[4 6 5]\n",
      "  [1 0 2]\n",
      "  [0 7 1]]\n",
      "\n",
      " [[6 5 7]\n",
      "  [0 2 2]\n",
      "  [7 1 9]]\n",
      "\n",
      " [[5 7 0]\n",
      "  [2 2 0]\n",
      "  [1 9 5]]\n",
      "\n",
      " [[7 0 3]\n",
      "  [2 0 8]\n",
      "  [9 5 7]]\n",
      "\n",
      " [[0 3 9]\n",
      "  [0 8 9]\n",
      "  [5 7 2]]\n",
      "\n",
      " [[3 9 0]\n",
      "  [8 9 4]\n",
      "  [7 2 5]]\n",
      "\n",
      " [[0 1 1]\n",
      "  [2 2 0]\n",
      "  [0 9 3]]\n",
      "\n",
      " [[1 1 0]\n",
      "  [2 0 7]\n",
      "  [9 3 6]]\n",
      "\n",
      " [[1 0 2]\n",
      "  [0 7 1]\n",
      "  [3 6 1]]\n",
      "\n",
      " [[0 2 2]\n",
      "  [7 1 9]\n",
      "  [6 1 1]]\n",
      "\n",
      " [[2 2 0]\n",
      "  [1 9 5]\n",
      "  [1 1 7]]\n",
      "\n",
      " [[2 0 8]\n",
      "  [9 5 7]\n",
      "  [1 7 1]]\n",
      "\n",
      " [[0 8 9]\n",
      "  [5 7 2]\n",
      "  [7 1 2]]\n",
      "\n",
      " [[8 9 4]\n",
      "  [7 2 5]\n",
      "  [1 2 6]]\n",
      "\n",
      " [[2 2 0]\n",
      "  [0 9 3]\n",
      "  [9 4 8]]\n",
      "\n",
      " [[2 0 7]\n",
      "  [9 3 6]\n",
      "  [4 8 9]]\n",
      "\n",
      " [[0 7 1]\n",
      "  [3 6 1]\n",
      "  [8 9 1]]\n",
      "\n",
      " [[7 1 9]\n",
      "  [6 1 1]\n",
      "  [9 1 9]]\n",
      "\n",
      " [[1 9 5]\n",
      "  [1 1 7]\n",
      "  [1 9 1]]\n",
      "\n",
      " [[9 5 7]\n",
      "  [1 7 1]\n",
      "  [9 1 4]]\n",
      "\n",
      " [[5 7 2]\n",
      "  [7 1 2]\n",
      "  [1 4 4]]\n",
      "\n",
      " [[7 2 5]\n",
      "  [1 2 6]\n",
      "  [4 4 1]]\n",
      "\n",
      " [[0 9 3]\n",
      "  [9 4 8]\n",
      "  [6 7 2]]\n",
      "\n",
      " [[9 3 6]\n",
      "  [4 8 9]\n",
      "  [7 2 2]]\n",
      "\n",
      " [[3 6 1]\n",
      "  [8 9 1]\n",
      "  [2 2 6]]\n",
      "\n",
      " [[6 1 1]\n",
      "  [9 1 9]\n",
      "  [2 6 1]]\n",
      "\n",
      " [[1 1 7]\n",
      "  [1 9 1]\n",
      "  [6 1 0]]\n",
      "\n",
      " [[1 7 1]\n",
      "  [9 1 4]\n",
      "  [1 0 1]]\n",
      "\n",
      " [[7 1 2]\n",
      "  [1 4 4]\n",
      "  [0 1 8]]\n",
      "\n",
      " [[1 2 6]\n",
      "  [4 4 1]\n",
      "  [1 8 0]]\n",
      "\n",
      " [[9 4 8]\n",
      "  [6 7 2]\n",
      "  [7 2 4]]\n",
      "\n",
      " [[4 8 9]\n",
      "  [7 2 2]\n",
      "  [2 4 0]]\n",
      "\n",
      " [[8 9 1]\n",
      "  [2 2 6]\n",
      "  [4 0 2]]\n",
      "\n",
      " [[9 1 9]\n",
      "  [2 6 1]\n",
      "  [0 2 2]]\n",
      "\n",
      " [[1 9 1]\n",
      "  [6 1 0]\n",
      "  [2 2 5]]\n",
      "\n",
      " [[9 1 4]\n",
      "  [1 0 1]\n",
      "  [2 5 8]]\n",
      "\n",
      " [[1 4 4]\n",
      "  [0 1 8]\n",
      "  [5 8 8]]\n",
      "\n",
      " [[4 4 1]\n",
      "  [1 8 0]\n",
      "  [8 8 3]]\n",
      "\n",
      " [[6 7 2]\n",
      "  [7 2 4]\n",
      "  [7 2 1]]\n",
      "\n",
      " [[7 2 2]\n",
      "  [2 4 0]\n",
      "  [2 1 0]]\n",
      "\n",
      " [[2 2 6]\n",
      "  [4 0 2]\n",
      "  [1 0 3]]\n",
      "\n",
      " [[2 6 1]\n",
      "  [0 2 2]\n",
      "  [0 3 4]]\n",
      "\n",
      " [[6 1 0]\n",
      "  [2 2 5]\n",
      "  [3 4 8]]\n",
      "\n",
      " [[1 0 1]\n",
      "  [2 5 8]\n",
      "  [4 8 6]]\n",
      "\n",
      " [[0 1 8]\n",
      "  [5 8 8]\n",
      "  [8 6 3]]\n",
      "\n",
      " [[1 8 0]\n",
      "  [8 8 3]\n",
      "  [6 3 3]]\n",
      "\n",
      " [[7 2 4]\n",
      "  [7 2 1]\n",
      "  [2 0 9]]\n",
      "\n",
      " [[2 4 0]\n",
      "  [2 1 0]\n",
      "  [0 9 2]]\n",
      "\n",
      " [[4 0 2]\n",
      "  [1 0 3]\n",
      "  [9 2 8]]\n",
      "\n",
      " [[0 2 2]\n",
      "  [0 3 4]\n",
      "  [2 8 2]]\n",
      "\n",
      " [[2 2 5]\n",
      "  [3 4 8]\n",
      "  [8 2 7]]\n",
      "\n",
      " [[2 5 8]\n",
      "  [4 8 6]\n",
      "  [2 7 0]]\n",
      "\n",
      " [[5 8 8]\n",
      "  [8 6 3]\n",
      "  [7 0 2]]\n",
      "\n",
      " [[8 8 3]\n",
      "  [6 3 3]\n",
      "  [0 2 2]]\n",
      "\n",
      " [[7 2 1]\n",
      "  [2 0 9]\n",
      "  [1 3 4]]\n",
      "\n",
      " [[2 1 0]\n",
      "  [0 9 2]\n",
      "  [3 4 5]]\n",
      "\n",
      " [[1 0 3]\n",
      "  [9 2 8]\n",
      "  [4 5 5]]\n",
      "\n",
      " [[0 3 4]\n",
      "  [2 8 2]\n",
      "  [5 5 3]]\n",
      "\n",
      " [[3 4 8]\n",
      "  [8 2 7]\n",
      "  [5 3 5]]\n",
      "\n",
      " [[4 8 6]\n",
      "  [2 7 0]\n",
      "  [3 5 2]]\n",
      "\n",
      " [[8 6 3]\n",
      "  [7 0 2]\n",
      "  [5 2 7]]\n",
      "\n",
      " [[6 3 3]\n",
      "  [0 2 2]\n",
      "  [2 7 8]]]\n"
     ]
    }
   ],
   "source": [
    "# Generate a random 10x10 matrix\n",
    "matrix = np.random.randint(0, 10, size=(10, 10))\n",
    "\n",
    "# Extract contiguous 3x3 blocks\n",
    "blocks = []\n",
    "for i in range(8):  # Iterate over rows\n",
    "    for j in range(8):  # Iterate over columns\n",
    "        block = matrix[i:i+3, j:j+3]  # Extract 3x3 block\n",
    "        blocks.append(block)\n",
    "\n",
    "# Convert the list of blocks to a NumPy array\n",
    "blocks_array = np.array(blocks)\n",
    "\n",
    "print(\"Contiguous 3x3 blocks extracted from the matrix:\")\n",
    "print(blocks_array)\n"
   ]
  },
  {
   "cell_type": "markdown",
   "metadata": {},
   "source": [
    "# 85."
   ]
  },
  {
   "cell_type": "code",
   "execution_count": 90,
   "metadata": {},
   "outputs": [
    {
     "name": "stdout",
     "output_type": "stream",
     "text": [
      "[[0. 5. 0.]\n",
      " [5. 0. 0.]\n",
      " [0. 0. 0.]]\n"
     ]
    }
   ],
   "source": [
    "class SymmetricArray(np.ndarray):\n",
    "    def __new__(cls, input_array):\n",
    "        obj = np.asarray(input_array).view(cls)\n",
    "        return obj\n",
    "\n",
    "    def __setitem__(self, index, value):\n",
    "        i, j = index\n",
    "        super().__setitem__((i, j), value)  # Set the value at index [i, j]\n",
    "        super().__setitem__((j, i), value)  # Also set the value at index [j, i]\n",
    "\n",
    "# Example usage\n",
    "Z = SymmetricArray(np.zeros((3, 3)))\n",
    "Z[0, 1] = 5\n",
    "print(Z)\n"
   ]
  },
  {
   "cell_type": "markdown",
   "metadata": {},
   "source": [
    "# 86."
   ]
  },
  {
   "cell_type": "code",
   "execution_count": 94,
   "metadata": {},
   "outputs": [
    {
     "name": "stdout",
     "output_type": "stream",
     "text": [
      "Sum of matrix-vector products:\n",
      "[[1.72493617]\n",
      " [2.28092509]]\n"
     ]
    }
   ],
   "source": [
    "def sum_of_matrix_vector_products(matrices, vectors):\n",
    "    # Ensure matrices and vectors have compatible shapes\n",
    "    assert matrices.shape[0] == vectors.shape[0]\n",
    "    assert matrices.shape[1] == matrices.shape[2] == vectors.shape[1]\n",
    "    \n",
    "    # Compute the sum of matrix-vector products\n",
    "    result = np.sum(np.matmul(matrices, vectors), axis=0)\n",
    "    \n",
    "    return result\n",
    "\n",
    "# Example matrices and vectors\n",
    "p = 3  # Number of matrices and vectors\n",
    "n = 2  # Shape of matrices and vectors\n",
    "\n",
    "matrices = np.random.rand(p, n, n)  # Generate random matrices\n",
    "vectors = np.random.rand(p, n, 1)   # Generate random vectors\n",
    "\n",
    "# Compute the sum of matrix-vector products\n",
    "result = sum_of_matrix_vector_products(matrices, vectors)\n",
    "\n",
    "print(\"Sum of matrix-vector products:\")\n",
    "print(result)\n"
   ]
  },
  {
   "cell_type": "markdown",
   "metadata": {},
   "source": [
    "# 87."
   ]
  },
  {
   "cell_type": "code",
   "execution_count": 95,
   "metadata": {},
   "outputs": [
    {
     "name": "stdout",
     "output_type": "stream",
     "text": [
      "Block sum:\n",
      "[[58 75 76 70]\n",
      " [49 80 66 77]\n",
      " [44 74 76 67]\n",
      " [69 62 92 70]]\n"
     ]
    }
   ],
   "source": [
    "\n",
    "# Example 16x16 array\n",
    "array = np.random.randint(0, 10, size=(16, 16))\n",
    "\n",
    "# Reshape the array into a 4D array with block size 4x4\n",
    "block_shape = (4, 4)\n",
    "blocks = array.reshape(array.shape[0] // block_shape[0], block_shape[0], \n",
    "                       array.shape[1] // block_shape[1], block_shape[1])\n",
    "\n",
    "# Sum along the last two axes to get the block sum\n",
    "block_sum = np.sum(blocks, axis=(-2, -1))\n",
    "\n",
    "print(\"Block sum:\")\n",
    "print(block_sum)\n"
   ]
  },
  {
   "cell_type": "markdown",
   "metadata": {},
   "source": [
    "# 88."
   ]
  },
  {
   "cell_type": "code",
   "execution_count": 97,
   "metadata": {},
   "outputs": [
    {
     "ename": "ModuleNotFoundError",
     "evalue": "No module named 'matplotlib'",
     "output_type": "error",
     "traceback": [
      "\u001b[1;31m---------------------------------------------------------------------------\u001b[0m",
      "\u001b[1;31mModuleNotFoundError\u001b[0m                       Traceback (most recent call last)",
      "Cell \u001b[1;32mIn[97], line 2\u001b[0m\n\u001b[0;32m      1\u001b[0m \u001b[38;5;28;01mimport\u001b[39;00m \u001b[38;5;21;01mnumpy\u001b[39;00m \u001b[38;5;28;01mas\u001b[39;00m \u001b[38;5;21;01mnp\u001b[39;00m\n\u001b[1;32m----> 2\u001b[0m \u001b[38;5;28;01mimport\u001b[39;00m \u001b[38;5;21;01mmatplotlib\u001b[39;00m\u001b[38;5;21;01m.\u001b[39;00m\u001b[38;5;21;01mpyplot\u001b[39;00m \u001b[38;5;28;01mas\u001b[39;00m \u001b[38;5;21;01mplt\u001b[39;00m\n\u001b[0;32m      3\u001b[0m \u001b[38;5;28;01mimport\u001b[39;00m \u001b[38;5;21;01mmatplotlib\u001b[39;00m\u001b[38;5;21;01m.\u001b[39;00m\u001b[38;5;21;01manimation\u001b[39;00m \u001b[38;5;28;01mas\u001b[39;00m \u001b[38;5;21;01manimation\u001b[39;00m\n\u001b[0;32m      5\u001b[0m \u001b[38;5;28;01mdef\u001b[39;00m \u001b[38;5;21mevolve\u001b[39m(grid):\n",
      "\u001b[1;31mModuleNotFoundError\u001b[0m: No module named 'matplotlib'"
     ]
    }
   ],
   "source": [
    "import numpy as np\n",
    "import matplotlib.pyplot as plt\n",
    "import matplotlib.animation as animation\n",
    "\n",
    "def evolve(grid):\n",
    "    neighbor_count = sum(np.roll(np.roll(grid, i, axis=0), j, axis=1)\n",
    "                         for i in (-1, 0, 1) for j in (-1, 0, 1) if (i != 0 or j != 0))\n",
    "    new_grid = (neighbor_count == 3) | (grid & (neighbor_count == 2))\n",
    "    return new_grid.astype(int)\n",
    "\n",
    "# Initialize the grid with random values\n",
    "grid_size = 100\n",
    "grid = np.random.choice([0, 1], size=(grid_size, grid_size), p=[0.9, 0.1])\n",
    "\n",
    "# Create animation\n",
    "fig, ax = plt.subplots()\n",
    "img = ax.imshow(grid, interpolation='nearest', cmap='gray')\n",
    "\n",
    "def update(frame):\n",
    "    global grid\n",
    "    grid = evolve(grid)\n",
    "    img.set_array(grid)\n",
    "    return img,\n",
    "\n",
    "ani = animation.FuncAnimation(fig, update, frames=100, interval=50)\n",
    "plt.show()\n"
   ]
  },
  {
   "cell_type": "markdown",
   "metadata": {},
   "source": [
    "# 89."
   ]
  },
  {
   "cell_type": "code",
   "execution_count": 98,
   "metadata": {},
   "outputs": [
    {
     "name": "stdout",
     "output_type": "stream",
     "text": [
      "Indices of the 3 largest values: [1 4 3]\n",
      "Values of the 3 largest values: [3 4 5]\n"
     ]
    }
   ],
   "source": [
    "\n",
    "def n_largest_values(array, n):\n",
    "    # Get indices of n largest values\n",
    "    indices = np.argpartition(array, -n)[-n:]\n",
    "    \n",
    "    # Sort the indices based on the values\n",
    "    sorted_indices = indices[np.argsort(array[indices])]\n",
    "    \n",
    "    # Extract the n largest values and return\n",
    "    return sorted_indices, array[sorted_indices]\n",
    "\n",
    "# Example array\n",
    "array = np.array([1, 3, 2, 5, 4])\n",
    "\n",
    "# Get the 3 largest values and their indices\n",
    "n = 3\n",
    "indices, values = n_largest_values(array, n)\n",
    "\n",
    "print(\"Indices of the {} largest values:\".format(n), indices)\n",
    "print(\"Values of the {} largest values:\".format(n), values)\n"
   ]
  },
  {
   "cell_type": "markdown",
   "metadata": {},
   "source": [
    "# 90."
   ]
  },
  {
   "cell_type": "code",
   "execution_count": 99,
   "metadata": {},
   "outputs": [
    {
     "name": "stdout",
     "output_type": "stream",
     "text": [
      "Cartesian product:\n",
      "(1, 'a', True)\n",
      "(1, 'a', False)\n",
      "(1, 'b', True)\n",
      "(1, 'b', False)\n",
      "(1, 'c', True)\n",
      "(1, 'c', False)\n",
      "(2, 'a', True)\n",
      "(2, 'a', False)\n",
      "(2, 'b', True)\n",
      "(2, 'b', False)\n",
      "(2, 'c', True)\n",
      "(2, 'c', False)\n"
     ]
    }
   ],
   "source": [
    "from itertools import product\n",
    "\n",
    "def cartesian_product(*vectors):\n",
    "    return list(product(*vectors))\n",
    "\n",
    "# Example vectors\n",
    "vector1 = [1, 2]\n",
    "vector2 = ['a', 'b', 'c']\n",
    "vector3 = [True, False]\n",
    "\n",
    "# Calculate the cartesian product\n",
    "result = cartesian_product(vector1, vector2, vector3)\n",
    "\n",
    "print(\"Cartesian product:\")\n",
    "for item in result:\n",
    "    print(item)\n"
   ]
  },
  {
   "cell_type": "markdown",
   "metadata": {},
   "source": [
    "# 91."
   ]
  },
  {
   "cell_type": "code",
   "execution_count": 100,
   "metadata": {},
   "outputs": [
    {
     "name": "stdout",
     "output_type": "stream",
     "text": [
      "Record array:\n",
      "[(1, 2, 3) (4, 5, 6) (7, 8, 9)]\n"
     ]
    }
   ],
   "source": [
    "# Regular array\n",
    "regular_array = np.array([[1, 2, 3],\n",
    "                          [4, 5, 6],\n",
    "                          [7, 8, 9]])\n",
    "\n",
    "# Create record array\n",
    "record_array = np.core.records.fromarrays(regular_array.T,\n",
    "                                           names='col1, col2, col3')\n",
    "\n",
    "print(\"Record array:\")\n",
    "print(record_array)\n"
   ]
  },
  {
   "cell_type": "markdown",
   "metadata": {},
   "source": [
    "# 92."
   ]
  },
  {
   "cell_type": "code",
   "execution_count": 101,
   "metadata": {},
   "outputs": [],
   "source": [
    "# Method 1: Using np.power()\n",
    "Z_cube_1 = np.power(Z, 3)\n",
    "\n",
    "# Method 2: Using the ** operator\n",
    "Z_cube_2 = Z ** 3\n",
    "\n",
    "# Method 3: Using np.multiply() twice\n",
    "Z_cube_3 = np.multiply(np.multiply(Z, Z), Z)\n"
   ]
  },
  {
   "cell_type": "markdown",
   "metadata": {},
   "source": [
    "# 93."
   ]
  },
  {
   "cell_type": "code",
   "execution_count": 104,
   "metadata": {},
   "outputs": [
    {
     "ename": "ValueError",
     "evalue": "operands could not be broadcast together with shapes (8,1,3) (2,2,1) ",
     "output_type": "error",
     "traceback": [
      "\u001b[1;31m---------------------------------------------------------------------------\u001b[0m",
      "\u001b[1;31mValueError\u001b[0m                                Traceback (most recent call last)",
      "Cell \u001b[1;32mIn[104], line 24\u001b[0m\n\u001b[0;32m     21\u001b[0m reshaped_B \u001b[38;5;241m=\u001b[39m sorted_B[:, :, np\u001b[38;5;241m.\u001b[39mnewaxis]\n\u001b[0;32m     23\u001b[0m \u001b[38;5;66;03m# Check if any row of A contains elements of each row of B\u001b[39;00m\n\u001b[1;32m---> 24\u001b[0m rows_containing_B \u001b[38;5;241m=\u001b[39m np\u001b[38;5;241m.\u001b[39mall(\u001b[43msorted_A\u001b[49m\u001b[43m[\u001b[49m\u001b[43m:\u001b[49m\u001b[43m,\u001b[49m\u001b[43m \u001b[49m\u001b[43mnp\u001b[49m\u001b[38;5;241;43m.\u001b[39;49m\u001b[43mnewaxis\u001b[49m\u001b[43m,\u001b[49m\u001b[43m \u001b[49m\u001b[43m:\u001b[49m\u001b[43m]\u001b[49m\u001b[43m \u001b[49m\u001b[38;5;241;43m==\u001b[39;49m\u001b[43m \u001b[49m\u001b[43mreshaped_B\u001b[49m, axis\u001b[38;5;241m=\u001b[39m\u001b[38;5;241m-\u001b[39m\u001b[38;5;241m1\u001b[39m)\u001b[38;5;241m.\u001b[39many(axis\u001b[38;5;241m=\u001b[39m\u001b[38;5;241m-\u001b[39m\u001b[38;5;241m1\u001b[39m)\n\u001b[0;32m     26\u001b[0m \u001b[38;5;66;03m# Get the rows of A that contain elements of each row of B\u001b[39;00m\n\u001b[0;32m     27\u001b[0m result \u001b[38;5;241m=\u001b[39m A[rows_containing_B]\n",
      "\u001b[1;31mValueError\u001b[0m: operands could not be broadcast together with shapes (8,1,3) (2,2,1) "
     ]
    }
   ],
   "source": [
    "# Example arrays\n",
    "A = np.array([[1, 2, 3],\n",
    "              [4, 5, 6],\n",
    "              [7, 8, 9],\n",
    "              [1, 3, 2],\n",
    "              [4, 6, 5],\n",
    "              [9, 7, 8],\n",
    "              [2, 1, 3],\n",
    "              [5, 6, 4]])\n",
    "\n",
    "B = np.array([[1, 2],\n",
    "              [3, 4]])\n",
    "\n",
    "# Sort the rows of B\n",
    "sorted_B = np.sort(B, axis=1)\n",
    "\n",
    "# Sort the rows of A\n",
    "sorted_A = np.sort(A, axis=1)\n",
    "\n",
    "# Reshape B to have the same number of dimensions as sorted_A\n",
    "reshaped_B = sorted_B[:, :, np.newaxis]\n",
    "\n",
    "# Check if any row of A contains elements of each row of B\n",
    "rows_containing_B = np.all(sorted_A[:, np.newaxis, :] == reshaped_B, axis=-1).any(axis=-1)\n",
    "\n",
    "# Get the rows of A that contain elements of each row of B\n",
    "result = A[rows_containing_B]\n",
    "\n",
    "print(\"Rows of A containing elements of each row of B:\")\n",
    "print(result)\n"
   ]
  },
  {
   "cell_type": "markdown",
   "metadata": {},
   "source": [
    "# 94."
   ]
  },
  {
   "cell_type": "code",
   "execution_count": 105,
   "metadata": {},
   "outputs": [
    {
     "name": "stdout",
     "output_type": "stream",
     "text": [
      "Rows with unequal values:\n",
      "[[1 2 3]\n",
      " [4 5 6]\n",
      " [8 8 9]\n",
      " [2 2 3]\n",
      " [6 7 8]]\n"
     ]
    }
   ],
   "source": [
    "# Example 10x3 matrix\n",
    "matrix = np.array([[1, 2, 3],\n",
    "                   [2, 2, 2],\n",
    "                   [4, 5, 6],\n",
    "                   [7, 7, 7],\n",
    "                   [8, 8, 9],\n",
    "                   [2, 2, 3],\n",
    "                   [4, 4, 4],\n",
    "                   [5, 5, 5],\n",
    "                   [6, 7, 8],\n",
    "                   [9, 9, 9]])\n",
    "\n",
    "# Find rows with unequal values\n",
    "unequal_rows = np.array([any(np.unique(row).size != 1) for row in matrix])\n",
    "\n",
    "# Extract rows with unequal values\n",
    "result = matrix[unequal_rows]\n",
    "\n",
    "print(\"Rows with unequal values:\")\n",
    "print(result)\n"
   ]
  },
  {
   "cell_type": "markdown",
   "metadata": {},
   "source": [
    "# 95."
   ]
  },
  {
   "cell_type": "code",
   "execution_count": 106,
   "metadata": {},
   "outputs": [
    {
     "name": "stdout",
     "output_type": "stream",
     "text": [
      "Binary matrix representation:\n",
      "[[0 1 0 0]\n",
      " [1 0 1 0]\n",
      " [1 1 1 0]\n",
      " [0 1 0 1]]\n"
     ]
    }
   ],
   "source": [
    "\n",
    "def int_to_binary_matrix(vector):\n",
    "    # Determine the number of bits needed to represent the maximum value in the vector\n",
    "    max_value = np.max(vector)\n",
    "    num_bits = int(np.ceil(np.log2(max_value + 1)))\n",
    "    \n",
    "    # Convert each integer to binary representation\n",
    "    binary_matrix = ((vector[:, None] & (1 << np.arange(num_bits))) > 0).astype(int)\n",
    "    \n",
    "    return binary_matrix\n",
    "\n",
    "# Example vector\n",
    "vector = np.array([2, 5, 7, 10])\n",
    "\n",
    "# Convert to binary matrix\n",
    "binary_matrix = int_to_binary_matrix(vector)\n",
    "\n",
    "print(\"Binary matrix representation:\")\n",
    "print(binary_matrix)\n"
   ]
  },
  {
   "cell_type": "markdown",
   "metadata": {},
   "source": [
    "# 96"
   ]
  },
  {
   "cell_type": "code",
   "execution_count": 107,
   "metadata": {},
   "outputs": [
    {
     "name": "stdout",
     "output_type": "stream",
     "text": [
      "Unique rows:\n",
      "[[ 1  2  3]\n",
      " [ 4  5  6]\n",
      " [ 7  8  9]\n",
      " [10 11 12]]\n"
     ]
    }
   ],
   "source": [
    "def extract_unique_rows(array):\n",
    "    # Convert the array to a contiguous array\n",
    "    array = np.ascontiguousarray(array)\n",
    "    # Get the unique rows\n",
    "    unique_rows, indices = np.unique(array, axis=0, return_index=True)\n",
    "    return unique_rows\n",
    "\n",
    "# Example two-dimensional array\n",
    "array = np.array([[1, 2, 3],\n",
    "                  [4, 5, 6],\n",
    "                  [1, 2, 3],\n",
    "                  [7, 8, 9],\n",
    "                  [4, 5, 6],\n",
    "                  [10, 11, 12]])\n",
    "\n",
    "# Extract unique rows\n",
    "unique_rows = extract_unique_rows(array)\n",
    "\n",
    "print(\"Unique rows:\")\n",
    "print(unique_rows)\n"
   ]
  },
  {
   "cell_type": "markdown",
   "metadata": {},
   "source": [
    "# 97."
   ]
  },
  {
   "cell_type": "code",
   "execution_count": 108,
   "metadata": {},
   "outputs": [
    {
     "name": "stdout",
     "output_type": "stream",
     "text": [
      "Inner product: 32\n",
      "Outer product:\n",
      "[[ 4  5  6]\n",
      " [ 8 10 12]\n",
      " [12 15 18]]\n",
      "Sum of A: 6\n",
      "Element-wise multiplication:\n",
      "[ 4 10 18]\n"
     ]
    }
   ],
   "source": [
    "# Example vectors A and B\n",
    "A = np.array([1, 2, 3])\n",
    "B = np.array([4, 5, 6])\n",
    "\n",
    "# Inner product\n",
    "inner_product = np.einsum('i,i->', A, B)\n",
    "print(\"Inner product:\", inner_product)\n",
    "\n",
    "# Outer product\n",
    "outer_product = np.einsum('i,j->ij', A, B)\n",
    "print(\"Outer product:\")\n",
    "print(outer_product)\n",
    "\n",
    "# Sum\n",
    "sum_A = np.einsum('i->', A)\n",
    "print(\"Sum of A:\", sum_A)\n",
    "\n",
    "# Element-wise multiplication\n",
    "elementwise_mult = np.einsum('i,i->i', A, B)\n",
    "print(\"Element-wise multiplication:\")\n",
    "print(elementwise_mult)\n"
   ]
  },
  {
   "cell_type": "markdown",
   "metadata": {},
   "source": [
    "# 98."
   ]
  },
  {
   "cell_type": "code",
   "execution_count": 110,
   "metadata": {},
   "outputs": [
    {
     "name": "stdout",
     "output_type": "stream",
     "text": [
      "Equidistant samples (X): [0.         0.65683474 1.39761382 2.1979547  2.99829559 4.1979547\n",
      " 5.39846603 9.         9.         9.        ]\n",
      "Equidistant samples (Y): [0.         1.31366948 2.39761382 3.1979547  3.99829559 4.39931823\n",
      " 4.79948868 6.         6.         6.        ]\n"
     ]
    }
   ],
   "source": [
    "def equidistant_samples(X, Y, num_samples):\n",
    "    # Compute the Euclidean distance between consecutive points\n",
    "    distances = np.sqrt(np.diff(X)**2 + np.diff(Y)**2)\n",
    "    \n",
    "    # Compute the total length of the path\n",
    "    total_length = np.sum(distances)\n",
    "    \n",
    "    # Compute the length of each segment\n",
    "    segment_length = total_length / (num_samples - 1)\n",
    "    \n",
    "    # Initialize arrays to store equidistant samples\n",
    "    equidistant_X = np.zeros(num_samples)\n",
    "    equidistant_Y = np.zeros(num_samples)\n",
    "    \n",
    "    # Initialize variables for interpolation\n",
    "    current_distance = 0\n",
    "    current_index = 0\n",
    "    \n",
    "    # Interpolate between points to obtain equidistant samples\n",
    "    for i in range(num_samples):\n",
    "        # Find the segment containing the current equidistant sample\n",
    "        while current_distance < i * segment_length and current_index < len(distances):\n",
    "            current_distance += distances[current_index]\n",
    "            current_index += 1\n",
    "        \n",
    "        # Handle the case when current_index reaches the end of the distances array\n",
    "        if current_index == len(distances):\n",
    "            equidistant_X[i] = X[-1]\n",
    "            equidistant_Y[i] = Y[-1]\n",
    "        else:\n",
    "            # Interpolate between consecutive points in the segment\n",
    "            t = (i * segment_length - (current_distance - distances[current_index])) / distances[current_index]\n",
    "            equidistant_X[i] = (1 - t) * X[current_index - 1] + t * X[current_index]\n",
    "            equidistant_Y[i] = (1 - t) * Y[current_index - 1] + t * Y[current_index]\n",
    "    \n",
    "    return equidistant_X, equidistant_Y\n",
    "\n",
    "# Example vectors describing the path\n",
    "X = np.array([0, 1, 3, 6, 9])\n",
    "Y = np.array([0, 2, 4, 5, 6])\n",
    "\n",
    "# Number of equidistant samples\n",
    "num_samples = 10\n",
    "\n",
    "# Get equidistant samples\n",
    "equidistant_X, equidistant_Y = equidistant_samples(X, Y, num_samples)\n",
    "\n",
    "print(\"Equidistant samples (X):\", equidistant_X)\n",
    "print(\"Equidistant samples (Y):\", equidistant_Y)\n"
   ]
  },
  {
   "cell_type": "markdown",
   "metadata": {},
   "source": [
    "# 99."
   ]
  },
  {
   "cell_type": "code",
   "execution_count": 111,
   "metadata": {},
   "outputs": [
    {
     "name": "stdout",
     "output_type": "stream",
     "text": [
      "Selected rows:\n",
      "[[1 2 3]\n",
      " [1 2 3]]\n"
     ]
    }
   ],
   "source": [
    "def select_multinomial_rows(X, n):\n",
    "    # Check if each element in X is an integer\n",
    "    is_integer = np.all(np.equal(np.mod(X, 1), 0), axis=1)\n",
    "    \n",
    "    # Check if the sum of each row equals n\n",
    "    row_sum_equals_n = np.sum(X, axis=1) == n\n",
    "    \n",
    "    # Select rows that meet both conditions\n",
    "    selected_rows = X[np.logical_and(is_integer, row_sum_equals_n)]\n",
    "    \n",
    "    return selected_rows\n",
    "\n",
    "# Example 2D array X and integer n\n",
    "X = np.array([[1, 2, 3],\n",
    "              [4, 5, 6],\n",
    "              [7, 8, 9],\n",
    "              [1, 2, 3]])\n",
    "\n",
    "n = 6\n",
    "\n",
    "# Select rows from X that meet the criteria\n",
    "selected_rows = select_multinomial_rows(X, n)\n",
    "\n",
    "print(\"Selected rows:\")\n",
    "print(selected_rows)\n"
   ]
  },
  {
   "cell_type": "markdown",
   "metadata": {},
   "source": [
    "# 100."
   ]
  },
  {
   "cell_type": "code",
   "execution_count": 112,
   "metadata": {},
   "outputs": [
    {
     "name": "stdout",
     "output_type": "stream",
     "text": [
      "Bootstrap confidence interval for the mean (95%): [3.8 7.3]\n"
     ]
    }
   ],
   "source": [
    "def bootstrap_confidence_interval(X, num_samples, alpha=0.05):\n",
    "    # Initialize array to store means of bootstrap samples\n",
    "    bootstrap_means = np.zeros(num_samples)\n",
    "    \n",
    "    # Resample the elements of X with replacement and compute the mean of each sample\n",
    "    for i in range(num_samples):\n",
    "        sample = np.random.choice(X, size=len(X), replace=True)\n",
    "        bootstrap_means[i] = np.mean(sample)\n",
    "    \n",
    "    # Compute confidence intervals using percentiles\n",
    "    lower_percentile = 100 * (alpha / 2)\n",
    "    upper_percentile = 100 * (1 - alpha / 2)\n",
    "    confidence_interval = np.percentile(bootstrap_means, [lower_percentile, upper_percentile])\n",
    "    \n",
    "    return confidence_interval\n",
    "\n",
    "# Example 1D array X\n",
    "X = np.array([1, 2, 3, 4, 5, 6, 7, 8, 9, 10])\n",
    "\n",
    "# Number of bootstrap samples\n",
    "num_samples = 1000\n",
    "\n",
    "# Compute bootstrap confidence intervals\n",
    "confidence_interval = bootstrap_confidence_interval(X, num_samples)\n",
    "\n",
    "print(\"Bootstrap confidence interval for the mean (95%):\", confidence_interval)\n"
   ]
  }
 ],
 "metadata": {
  "kernelspec": {
   "display_name": "Python 3",
   "language": "python",
   "name": "python3"
  },
  "language_info": {
   "codemirror_mode": {
    "name": "ipython",
    "version": 3
   },
   "file_extension": ".py",
   "mimetype": "text/x-python",
   "name": "python",
   "nbconvert_exporter": "python",
   "pygments_lexer": "ipython3",
   "version": "3.12.0"
  },
  "orig_nbformat": 4
 },
 "nbformat": 4,
 "nbformat_minor": 2
}
